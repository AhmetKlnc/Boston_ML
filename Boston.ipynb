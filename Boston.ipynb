{
 "cells": [
  {
   "cell_type": "markdown",
   "id": "a5db5e3a-6421-4731-a71e-cb649ac42748",
   "metadata": {},
   "source": [
    "### Boston House Data, Massachusetts eyaletinin Boston şehrinde bulunan konutların fiyatlarını tahmin etmek için tasarlanmış bir veri setidir. \n",
    "### Veri seti, 1970'li yıllarda Massachusetts Ulaştırma Departmanı tarafından toplanmıştır. Veri seti, 506 gözlem ve 14 değişkenden oluşur."
   ]
  },
  {
   "cell_type": "markdown",
   "id": "eebdd61c-62de-4030-a77f-834acebcc3d8",
   "metadata": {},
   "source": [
    "#"
   ]
  },
  {
   "cell_type": "markdown",
   "id": "1e96ab2d-c24d-4abb-9d8b-1b83b4fdaf9f",
   "metadata": {
    "tags": []
   },
   "source": [
    "#### --- CRIM: Sehirdeki kisi basina suc orani\n",
    "#### --- ZN: Imarli arazi orani 25.000 (fit^2 basina)\n",
    "#### --- INDUS: Kasaba basina perakende olmayan is alanlarinin orani\n",
    "#### --- CHAS: Charles nehri icin bir dummy degisken (yol nehir kenarina yakin ise 1, degil ise 0)\n",
    "#### --- NOX: Azot oksit orani\n",
    "#### --- RM: Konut basina ortalama oda sayisi\n",
    "#### --- AGE: 1940'tan once insaa edilen ve sahibi tarafindan kullanilan binalarin orani\n",
    "#### --- DIS: Bes Boston is merkezinin istihdam merkezine olan mesafenin agirlikli ortalamasi\n",
    "#### --- RAD: Oto yollara erisim orani\n",
    "#### --- TAX: 10.000$ basina emlak vergisi orani\n",
    "#### --- PTRATIO: Kasaba basina ogretmen-ogrencş orani\n",
    "#### --- BLACK: Kasabadaki siyahilerin orani\n",
    "#### --- LSTAT: Nufusun alt durumu % olarak\n",
    "#### --- MEDV: sahibi tarafindan kullanilan evlerin fiyatlarinin medyan degeri"
   ]
  },
  {
   "cell_type": "code",
   "execution_count": 1,
   "id": "232f2432-a11c-407b-808a-1064cc2aba5a",
   "metadata": {},
   "outputs": [],
   "source": [
    "import numpy as np\n",
    "import pandas as pd\n",
    "import statsmodels.api as sm\n",
    "import seaborn as sns\n",
    "import matplotlib.pyplot as plt\n",
    "from sklearn.metrics import confusion_matrix\n",
    "from sklearn.preprocessing import scale, StandardScaler\n",
    "from sklearn.model_selection import train_test_split, GridSearchCV, cross_val_score\n",
    "from sklearn.metrics import confusion_matrix, accuracy_score, mean_squared_error, r2_score, roc_auc_score, roc_curve, classification_report"
   ]
  },
  {
   "cell_type": "code",
   "execution_count": 2,
   "id": "dfc47a0f-6847-4379-90bb-c3b40a2d2f10",
   "metadata": {},
   "outputs": [],
   "source": [
    "import warnings\n",
    "warnings.filterwarnings('ignore')"
   ]
  },
  {
   "cell_type": "code",
   "execution_count": 3,
   "id": "67d8e8de-8f66-412a-b43a-3f458fbf57a3",
   "metadata": {},
   "outputs": [],
   "source": [
    "boston = pd.read_csv(\"C:/Users/Ahmet/Desktop/Veri Madenciliği/Boston.csv\")\n",
    "boston = boston.dropna()"
   ]
  },
  {
   "cell_type": "code",
   "execution_count": 4,
   "id": "29e31c71-4f18-47c4-89ab-164a75a5fb3f",
   "metadata": {},
   "outputs": [
    {
     "data": {
      "text/html": [
       "<div>\n",
       "<style scoped>\n",
       "    .dataframe tbody tr th:only-of-type {\n",
       "        vertical-align: middle;\n",
       "    }\n",
       "\n",
       "    .dataframe tbody tr th {\n",
       "        vertical-align: top;\n",
       "    }\n",
       "\n",
       "    .dataframe thead th {\n",
       "        text-align: right;\n",
       "    }\n",
       "</style>\n",
       "<table border=\"1\" class=\"dataframe\">\n",
       "  <thead>\n",
       "    <tr style=\"text-align: right;\">\n",
       "      <th></th>\n",
       "      <th>CRIM</th>\n",
       "      <th>ZN</th>\n",
       "      <th>INDUS</th>\n",
       "      <th>CHAS</th>\n",
       "      <th>NOX</th>\n",
       "      <th>RM</th>\n",
       "      <th>AGE</th>\n",
       "      <th>DIS</th>\n",
       "      <th>RAD</th>\n",
       "      <th>TAX</th>\n",
       "      <th>PTRATIO</th>\n",
       "      <th>B</th>\n",
       "      <th>LSTAT</th>\n",
       "      <th>MEDV</th>\n",
       "      <th>CAT.MEDV</th>\n",
       "    </tr>\n",
       "  </thead>\n",
       "  <tbody>\n",
       "    <tr>\n",
       "      <th>0</th>\n",
       "      <td>0.00632</td>\n",
       "      <td>18.0</td>\n",
       "      <td>2.31</td>\n",
       "      <td>0</td>\n",
       "      <td>0.538</td>\n",
       "      <td>6.575</td>\n",
       "      <td>65.2</td>\n",
       "      <td>4.0900</td>\n",
       "      <td>1</td>\n",
       "      <td>296.0</td>\n",
       "      <td>15.3</td>\n",
       "      <td>396.90</td>\n",
       "      <td>4.98</td>\n",
       "      <td>24.0</td>\n",
       "      <td>1</td>\n",
       "    </tr>\n",
       "    <tr>\n",
       "      <th>1</th>\n",
       "      <td>0.02731</td>\n",
       "      <td>0.0</td>\n",
       "      <td>7.07</td>\n",
       "      <td>0</td>\n",
       "      <td>0.469</td>\n",
       "      <td>6.421</td>\n",
       "      <td>78.9</td>\n",
       "      <td>4.9671</td>\n",
       "      <td>2</td>\n",
       "      <td>242.0</td>\n",
       "      <td>17.8</td>\n",
       "      <td>396.90</td>\n",
       "      <td>9.14</td>\n",
       "      <td>21.6</td>\n",
       "      <td>1</td>\n",
       "    </tr>\n",
       "    <tr>\n",
       "      <th>2</th>\n",
       "      <td>0.02729</td>\n",
       "      <td>0.0</td>\n",
       "      <td>7.07</td>\n",
       "      <td>0</td>\n",
       "      <td>0.469</td>\n",
       "      <td>7.185</td>\n",
       "      <td>61.1</td>\n",
       "      <td>4.9671</td>\n",
       "      <td>2</td>\n",
       "      <td>242.0</td>\n",
       "      <td>17.8</td>\n",
       "      <td>392.83</td>\n",
       "      <td>4.03</td>\n",
       "      <td>34.7</td>\n",
       "      <td>1</td>\n",
       "    </tr>\n",
       "    <tr>\n",
       "      <th>3</th>\n",
       "      <td>0.03237</td>\n",
       "      <td>0.0</td>\n",
       "      <td>2.18</td>\n",
       "      <td>0</td>\n",
       "      <td>0.458</td>\n",
       "      <td>6.998</td>\n",
       "      <td>45.8</td>\n",
       "      <td>6.0622</td>\n",
       "      <td>3</td>\n",
       "      <td>222.0</td>\n",
       "      <td>18.7</td>\n",
       "      <td>394.63</td>\n",
       "      <td>2.94</td>\n",
       "      <td>33.4</td>\n",
       "      <td>1</td>\n",
       "    </tr>\n",
       "    <tr>\n",
       "      <th>4</th>\n",
       "      <td>0.06905</td>\n",
       "      <td>0.0</td>\n",
       "      <td>2.18</td>\n",
       "      <td>0</td>\n",
       "      <td>0.458</td>\n",
       "      <td>7.147</td>\n",
       "      <td>54.2</td>\n",
       "      <td>6.0622</td>\n",
       "      <td>3</td>\n",
       "      <td>222.0</td>\n",
       "      <td>18.7</td>\n",
       "      <td>396.90</td>\n",
       "      <td>5.33</td>\n",
       "      <td>36.2</td>\n",
       "      <td>1</td>\n",
       "    </tr>\n",
       "  </tbody>\n",
       "</table>\n",
       "</div>"
      ],
      "text/plain": [
       "      CRIM    ZN  INDUS  CHAS    NOX     RM   AGE     DIS  RAD    TAX  \\\n",
       "0  0.00632  18.0   2.31     0  0.538  6.575  65.2  4.0900    1  296.0   \n",
       "1  0.02731   0.0   7.07     0  0.469  6.421  78.9  4.9671    2  242.0   \n",
       "2  0.02729   0.0   7.07     0  0.469  7.185  61.1  4.9671    2  242.0   \n",
       "3  0.03237   0.0   2.18     0  0.458  6.998  45.8  6.0622    3  222.0   \n",
       "4  0.06905   0.0   2.18     0  0.458  7.147  54.2  6.0622    3  222.0   \n",
       "\n",
       "   PTRATIO       B  LSTAT  MEDV  CAT.MEDV  \n",
       "0     15.3  396.90   4.98  24.0         1  \n",
       "1     17.8  396.90   9.14  21.6         1  \n",
       "2     17.8  392.83   4.03  34.7         1  \n",
       "3     18.7  394.63   2.94  33.4         1  \n",
       "4     18.7  396.90   5.33  36.2         1  "
      ]
     },
     "execution_count": 4,
     "metadata": {},
     "output_type": "execute_result"
    }
   ],
   "source": [
    "# Bağımlı değişkeni ikili kategoriye dönüştürelim\n",
    "boston[\"CAT.MEDV\"] = np.where(boston[\"MEDV\"] > boston[\"MEDV\"].median(), 1, 0)\n",
    "\n",
    "boston.head()"
   ]
  },
  {
   "cell_type": "code",
   "execution_count": 5,
   "id": "13168e52-07f3-4237-8a08-992dbb4c74d0",
   "metadata": {},
   "outputs": [
    {
     "data": {
      "text/plain": [
       "array([1, 0])"
      ]
     },
     "execution_count": 5,
     "metadata": {},
     "output_type": "execute_result"
    }
   ],
   "source": [
    "boston[\"CAT.MEDV\"].unique()"
   ]
  },
  {
   "cell_type": "code",
   "execution_count": 6,
   "id": "a8eb398b-d592-41a1-a674-445effbf28c7",
   "metadata": {},
   "outputs": [
    {
     "data": {
      "text/plain": [
       "0    256\n",
       "1    250\n",
       "Name: CAT.MEDV, dtype: int64"
      ]
     },
     "execution_count": 6,
     "metadata": {},
     "output_type": "execute_result"
    }
   ],
   "source": [
    "boston[\"CAT.MEDV\"].value_counts()"
   ]
  },
  {
   "cell_type": "markdown",
   "id": "0e731f15-0316-448c-87af-a4f181882eea",
   "metadata": {},
   "source": [
    "#### Tanimlayici istatistikler :"
   ]
  },
  {
   "cell_type": "code",
   "execution_count": 7,
   "id": "4efa8a72-efd5-4b5e-827d-7264ad34748a",
   "metadata": {},
   "outputs": [
    {
     "data": {
      "text/html": [
       "<div>\n",
       "<style scoped>\n",
       "    .dataframe tbody tr th:only-of-type {\n",
       "        vertical-align: middle;\n",
       "    }\n",
       "\n",
       "    .dataframe tbody tr th {\n",
       "        vertical-align: top;\n",
       "    }\n",
       "\n",
       "    .dataframe thead th {\n",
       "        text-align: right;\n",
       "    }\n",
       "</style>\n",
       "<table border=\"1\" class=\"dataframe\">\n",
       "  <thead>\n",
       "    <tr style=\"text-align: right;\">\n",
       "      <th></th>\n",
       "      <th>count</th>\n",
       "      <th>mean</th>\n",
       "      <th>std</th>\n",
       "      <th>min</th>\n",
       "      <th>25%</th>\n",
       "      <th>50%</th>\n",
       "      <th>75%</th>\n",
       "      <th>max</th>\n",
       "    </tr>\n",
       "  </thead>\n",
       "  <tbody>\n",
       "    <tr>\n",
       "      <th>CRIM</th>\n",
       "      <td>506.0</td>\n",
       "      <td>3.613524</td>\n",
       "      <td>8.601545</td>\n",
       "      <td>0.00632</td>\n",
       "      <td>0.082045</td>\n",
       "      <td>0.25651</td>\n",
       "      <td>3.677083</td>\n",
       "      <td>88.9762</td>\n",
       "    </tr>\n",
       "    <tr>\n",
       "      <th>ZN</th>\n",
       "      <td>506.0</td>\n",
       "      <td>11.363636</td>\n",
       "      <td>23.322453</td>\n",
       "      <td>0.00000</td>\n",
       "      <td>0.000000</td>\n",
       "      <td>0.00000</td>\n",
       "      <td>12.500000</td>\n",
       "      <td>100.0000</td>\n",
       "    </tr>\n",
       "    <tr>\n",
       "      <th>INDUS</th>\n",
       "      <td>506.0</td>\n",
       "      <td>11.136779</td>\n",
       "      <td>6.860353</td>\n",
       "      <td>0.46000</td>\n",
       "      <td>5.190000</td>\n",
       "      <td>9.69000</td>\n",
       "      <td>18.100000</td>\n",
       "      <td>27.7400</td>\n",
       "    </tr>\n",
       "    <tr>\n",
       "      <th>CHAS</th>\n",
       "      <td>506.0</td>\n",
       "      <td>0.069170</td>\n",
       "      <td>0.253994</td>\n",
       "      <td>0.00000</td>\n",
       "      <td>0.000000</td>\n",
       "      <td>0.00000</td>\n",
       "      <td>0.000000</td>\n",
       "      <td>1.0000</td>\n",
       "    </tr>\n",
       "    <tr>\n",
       "      <th>NOX</th>\n",
       "      <td>506.0</td>\n",
       "      <td>0.554695</td>\n",
       "      <td>0.115878</td>\n",
       "      <td>0.38500</td>\n",
       "      <td>0.449000</td>\n",
       "      <td>0.53800</td>\n",
       "      <td>0.624000</td>\n",
       "      <td>0.8710</td>\n",
       "    </tr>\n",
       "    <tr>\n",
       "      <th>RM</th>\n",
       "      <td>506.0</td>\n",
       "      <td>6.284634</td>\n",
       "      <td>0.702617</td>\n",
       "      <td>3.56100</td>\n",
       "      <td>5.885500</td>\n",
       "      <td>6.20850</td>\n",
       "      <td>6.623500</td>\n",
       "      <td>8.7800</td>\n",
       "    </tr>\n",
       "    <tr>\n",
       "      <th>AGE</th>\n",
       "      <td>506.0</td>\n",
       "      <td>68.574901</td>\n",
       "      <td>28.148861</td>\n",
       "      <td>2.90000</td>\n",
       "      <td>45.025000</td>\n",
       "      <td>77.50000</td>\n",
       "      <td>94.075000</td>\n",
       "      <td>100.0000</td>\n",
       "    </tr>\n",
       "    <tr>\n",
       "      <th>DIS</th>\n",
       "      <td>506.0</td>\n",
       "      <td>3.795043</td>\n",
       "      <td>2.105710</td>\n",
       "      <td>1.12960</td>\n",
       "      <td>2.100175</td>\n",
       "      <td>3.20745</td>\n",
       "      <td>5.188425</td>\n",
       "      <td>12.1265</td>\n",
       "    </tr>\n",
       "    <tr>\n",
       "      <th>RAD</th>\n",
       "      <td>506.0</td>\n",
       "      <td>9.549407</td>\n",
       "      <td>8.707259</td>\n",
       "      <td>1.00000</td>\n",
       "      <td>4.000000</td>\n",
       "      <td>5.00000</td>\n",
       "      <td>24.000000</td>\n",
       "      <td>24.0000</td>\n",
       "    </tr>\n",
       "    <tr>\n",
       "      <th>TAX</th>\n",
       "      <td>506.0</td>\n",
       "      <td>408.237154</td>\n",
       "      <td>168.537116</td>\n",
       "      <td>187.00000</td>\n",
       "      <td>279.000000</td>\n",
       "      <td>330.00000</td>\n",
       "      <td>666.000000</td>\n",
       "      <td>711.0000</td>\n",
       "    </tr>\n",
       "    <tr>\n",
       "      <th>PTRATIO</th>\n",
       "      <td>506.0</td>\n",
       "      <td>18.455534</td>\n",
       "      <td>2.164946</td>\n",
       "      <td>12.60000</td>\n",
       "      <td>17.400000</td>\n",
       "      <td>19.05000</td>\n",
       "      <td>20.200000</td>\n",
       "      <td>22.0000</td>\n",
       "    </tr>\n",
       "    <tr>\n",
       "      <th>B</th>\n",
       "      <td>506.0</td>\n",
       "      <td>356.674032</td>\n",
       "      <td>91.294864</td>\n",
       "      <td>0.32000</td>\n",
       "      <td>375.377500</td>\n",
       "      <td>391.44000</td>\n",
       "      <td>396.225000</td>\n",
       "      <td>396.9000</td>\n",
       "    </tr>\n",
       "    <tr>\n",
       "      <th>LSTAT</th>\n",
       "      <td>506.0</td>\n",
       "      <td>12.653063</td>\n",
       "      <td>7.141062</td>\n",
       "      <td>1.73000</td>\n",
       "      <td>6.950000</td>\n",
       "      <td>11.36000</td>\n",
       "      <td>16.955000</td>\n",
       "      <td>37.9700</td>\n",
       "    </tr>\n",
       "    <tr>\n",
       "      <th>MEDV</th>\n",
       "      <td>506.0</td>\n",
       "      <td>22.532806</td>\n",
       "      <td>9.197104</td>\n",
       "      <td>5.00000</td>\n",
       "      <td>17.025000</td>\n",
       "      <td>21.20000</td>\n",
       "      <td>25.000000</td>\n",
       "      <td>50.0000</td>\n",
       "    </tr>\n",
       "    <tr>\n",
       "      <th>CAT.MEDV</th>\n",
       "      <td>506.0</td>\n",
       "      <td>0.494071</td>\n",
       "      <td>0.500460</td>\n",
       "      <td>0.00000</td>\n",
       "      <td>0.000000</td>\n",
       "      <td>0.00000</td>\n",
       "      <td>1.000000</td>\n",
       "      <td>1.0000</td>\n",
       "    </tr>\n",
       "  </tbody>\n",
       "</table>\n",
       "</div>"
      ],
      "text/plain": [
       "          count        mean         std        min         25%        50%  \\\n",
       "CRIM      506.0    3.613524    8.601545    0.00632    0.082045    0.25651   \n",
       "ZN        506.0   11.363636   23.322453    0.00000    0.000000    0.00000   \n",
       "INDUS     506.0   11.136779    6.860353    0.46000    5.190000    9.69000   \n",
       "CHAS      506.0    0.069170    0.253994    0.00000    0.000000    0.00000   \n",
       "NOX       506.0    0.554695    0.115878    0.38500    0.449000    0.53800   \n",
       "RM        506.0    6.284634    0.702617    3.56100    5.885500    6.20850   \n",
       "AGE       506.0   68.574901   28.148861    2.90000   45.025000   77.50000   \n",
       "DIS       506.0    3.795043    2.105710    1.12960    2.100175    3.20745   \n",
       "RAD       506.0    9.549407    8.707259    1.00000    4.000000    5.00000   \n",
       "TAX       506.0  408.237154  168.537116  187.00000  279.000000  330.00000   \n",
       "PTRATIO   506.0   18.455534    2.164946   12.60000   17.400000   19.05000   \n",
       "B         506.0  356.674032   91.294864    0.32000  375.377500  391.44000   \n",
       "LSTAT     506.0   12.653063    7.141062    1.73000    6.950000   11.36000   \n",
       "MEDV      506.0   22.532806    9.197104    5.00000   17.025000   21.20000   \n",
       "CAT.MEDV  506.0    0.494071    0.500460    0.00000    0.000000    0.00000   \n",
       "\n",
       "                 75%       max  \n",
       "CRIM        3.677083   88.9762  \n",
       "ZN         12.500000  100.0000  \n",
       "INDUS      18.100000   27.7400  \n",
       "CHAS        0.000000    1.0000  \n",
       "NOX         0.624000    0.8710  \n",
       "RM          6.623500    8.7800  \n",
       "AGE        94.075000  100.0000  \n",
       "DIS         5.188425   12.1265  \n",
       "RAD        24.000000   24.0000  \n",
       "TAX       666.000000  711.0000  \n",
       "PTRATIO    20.200000   22.0000  \n",
       "B         396.225000  396.9000  \n",
       "LSTAT      16.955000   37.9700  \n",
       "MEDV       25.000000   50.0000  \n",
       "CAT.MEDV    1.000000    1.0000  "
      ]
     },
     "execution_count": 7,
     "metadata": {},
     "output_type": "execute_result"
    }
   ],
   "source": [
    "boston.describe().T"
   ]
  },
  {
   "cell_type": "code",
   "execution_count": 8,
   "id": "18e54fc4-60a9-4101-b734-3b619a4cb924",
   "metadata": {},
   "outputs": [],
   "source": [
    "# Bağımsız ve bağımlı değişkenleri ayıralım\n",
    "X = boston.drop([\"MEDV\", \"CAT.MEDV\"], axis=1)\n",
    "y = boston[\"CAT.MEDV\"]"
   ]
  },
  {
   "cell_type": "code",
   "execution_count": 9,
   "id": "53be11b4-0a25-4a42-8f2d-08a89b822074",
   "metadata": {},
   "outputs": [],
   "source": [
    "# Veri setini train ve test olarak bölelim:\n",
    "\n",
    "X_train, X_test, y_train, y_test = train_test_split(X, y, test_size=0.2, random_state=2241)"
   ]
  },
  {
   "cell_type": "code",
   "execution_count": 10,
   "id": "bc244722-5a17-48b1-add4-dcf26db0fbc1",
   "metadata": {},
   "outputs": [
    {
     "data": {
      "text/html": [
       "<div>\n",
       "<style scoped>\n",
       "    .dataframe tbody tr th:only-of-type {\n",
       "        vertical-align: middle;\n",
       "    }\n",
       "\n",
       "    .dataframe tbody tr th {\n",
       "        vertical-align: top;\n",
       "    }\n",
       "\n",
       "    .dataframe thead th {\n",
       "        text-align: right;\n",
       "    }\n",
       "</style>\n",
       "<table border=\"1\" class=\"dataframe\">\n",
       "  <thead>\n",
       "    <tr style=\"text-align: right;\">\n",
       "      <th></th>\n",
       "      <th>CRIM</th>\n",
       "      <th>ZN</th>\n",
       "      <th>INDUS</th>\n",
       "      <th>CHAS</th>\n",
       "      <th>NOX</th>\n",
       "      <th>RM</th>\n",
       "      <th>AGE</th>\n",
       "      <th>DIS</th>\n",
       "      <th>RAD</th>\n",
       "      <th>TAX</th>\n",
       "      <th>PTRATIO</th>\n",
       "      <th>B</th>\n",
       "      <th>LSTAT</th>\n",
       "    </tr>\n",
       "  </thead>\n",
       "  <tbody>\n",
       "    <tr>\n",
       "      <th>227</th>\n",
       "      <td>0.41238</td>\n",
       "      <td>0.0</td>\n",
       "      <td>6.20</td>\n",
       "      <td>0</td>\n",
       "      <td>0.504</td>\n",
       "      <td>7.163</td>\n",
       "      <td>79.9</td>\n",
       "      <td>3.2157</td>\n",
       "      <td>8</td>\n",
       "      <td>307.0</td>\n",
       "      <td>17.4</td>\n",
       "      <td>372.08</td>\n",
       "      <td>6.36</td>\n",
       "    </tr>\n",
       "    <tr>\n",
       "      <th>256</th>\n",
       "      <td>0.01538</td>\n",
       "      <td>90.0</td>\n",
       "      <td>3.75</td>\n",
       "      <td>0</td>\n",
       "      <td>0.394</td>\n",
       "      <td>7.454</td>\n",
       "      <td>34.2</td>\n",
       "      <td>6.3361</td>\n",
       "      <td>3</td>\n",
       "      <td>244.0</td>\n",
       "      <td>15.9</td>\n",
       "      <td>386.34</td>\n",
       "      <td>3.11</td>\n",
       "    </tr>\n",
       "    <tr>\n",
       "      <th>16</th>\n",
       "      <td>1.05393</td>\n",
       "      <td>0.0</td>\n",
       "      <td>8.14</td>\n",
       "      <td>0</td>\n",
       "      <td>0.538</td>\n",
       "      <td>5.935</td>\n",
       "      <td>29.3</td>\n",
       "      <td>4.4986</td>\n",
       "      <td>4</td>\n",
       "      <td>307.0</td>\n",
       "      <td>21.0</td>\n",
       "      <td>386.85</td>\n",
       "      <td>6.58</td>\n",
       "    </tr>\n",
       "    <tr>\n",
       "      <th>156</th>\n",
       "      <td>2.44668</td>\n",
       "      <td>0.0</td>\n",
       "      <td>19.58</td>\n",
       "      <td>0</td>\n",
       "      <td>0.871</td>\n",
       "      <td>5.272</td>\n",
       "      <td>94.0</td>\n",
       "      <td>1.7364</td>\n",
       "      <td>5</td>\n",
       "      <td>403.0</td>\n",
       "      <td>14.7</td>\n",
       "      <td>88.63</td>\n",
       "      <td>16.14</td>\n",
       "    </tr>\n",
       "    <tr>\n",
       "      <th>484</th>\n",
       "      <td>2.37857</td>\n",
       "      <td>0.0</td>\n",
       "      <td>18.10</td>\n",
       "      <td>0</td>\n",
       "      <td>0.583</td>\n",
       "      <td>5.871</td>\n",
       "      <td>41.9</td>\n",
       "      <td>3.7240</td>\n",
       "      <td>24</td>\n",
       "      <td>666.0</td>\n",
       "      <td>20.2</td>\n",
       "      <td>370.73</td>\n",
       "      <td>13.34</td>\n",
       "    </tr>\n",
       "  </tbody>\n",
       "</table>\n",
       "</div>"
      ],
      "text/plain": [
       "        CRIM    ZN  INDUS  CHAS    NOX     RM   AGE     DIS  RAD    TAX  \\\n",
       "227  0.41238   0.0   6.20     0  0.504  7.163  79.9  3.2157    8  307.0   \n",
       "256  0.01538  90.0   3.75     0  0.394  7.454  34.2  6.3361    3  244.0   \n",
       "16   1.05393   0.0   8.14     0  0.538  5.935  29.3  4.4986    4  307.0   \n",
       "156  2.44668   0.0  19.58     0  0.871  5.272  94.0  1.7364    5  403.0   \n",
       "484  2.37857   0.0  18.10     0  0.583  5.871  41.9  3.7240   24  666.0   \n",
       "\n",
       "     PTRATIO       B  LSTAT  \n",
       "227     17.4  372.08   6.36  \n",
       "256     15.9  386.34   3.11  \n",
       "16      21.0  386.85   6.58  \n",
       "156     14.7   88.63  16.14  \n",
       "484     20.2  370.73  13.34  "
      ]
     },
     "execution_count": 10,
     "metadata": {},
     "output_type": "execute_result"
    }
   ],
   "source": [
    "X_train.head()"
   ]
  },
  {
   "cell_type": "code",
   "execution_count": 11,
   "id": "6811cdd0-5673-4933-8635-acb0c60dec89",
   "metadata": {},
   "outputs": [
    {
     "data": {
      "text/html": [
       "<div>\n",
       "<style scoped>\n",
       "    .dataframe tbody tr th:only-of-type {\n",
       "        vertical-align: middle;\n",
       "    }\n",
       "\n",
       "    .dataframe tbody tr th {\n",
       "        vertical-align: top;\n",
       "    }\n",
       "\n",
       "    .dataframe thead th {\n",
       "        text-align: right;\n",
       "    }\n",
       "</style>\n",
       "<table border=\"1\" class=\"dataframe\">\n",
       "  <thead>\n",
       "    <tr style=\"text-align: right;\">\n",
       "      <th></th>\n",
       "      <th>CRIM</th>\n",
       "      <th>ZN</th>\n",
       "      <th>INDUS</th>\n",
       "      <th>CHAS</th>\n",
       "      <th>NOX</th>\n",
       "      <th>RM</th>\n",
       "      <th>AGE</th>\n",
       "      <th>DIS</th>\n",
       "      <th>RAD</th>\n",
       "      <th>TAX</th>\n",
       "      <th>PTRATIO</th>\n",
       "      <th>B</th>\n",
       "      <th>LSTAT</th>\n",
       "    </tr>\n",
       "  </thead>\n",
       "  <tbody>\n",
       "    <tr>\n",
       "      <th>32</th>\n",
       "      <td>1.38799</td>\n",
       "      <td>0.0</td>\n",
       "      <td>8.14</td>\n",
       "      <td>0</td>\n",
       "      <td>0.538</td>\n",
       "      <td>5.950</td>\n",
       "      <td>82.0</td>\n",
       "      <td>3.9900</td>\n",
       "      <td>4</td>\n",
       "      <td>307.0</td>\n",
       "      <td>21.0</td>\n",
       "      <td>232.60</td>\n",
       "      <td>27.71</td>\n",
       "    </tr>\n",
       "    <tr>\n",
       "      <th>430</th>\n",
       "      <td>8.49213</td>\n",
       "      <td>0.0</td>\n",
       "      <td>18.10</td>\n",
       "      <td>0</td>\n",
       "      <td>0.584</td>\n",
       "      <td>6.348</td>\n",
       "      <td>86.1</td>\n",
       "      <td>2.0527</td>\n",
       "      <td>24</td>\n",
       "      <td>666.0</td>\n",
       "      <td>20.2</td>\n",
       "      <td>83.45</td>\n",
       "      <td>17.64</td>\n",
       "    </tr>\n",
       "    <tr>\n",
       "      <th>8</th>\n",
       "      <td>0.21124</td>\n",
       "      <td>12.5</td>\n",
       "      <td>7.87</td>\n",
       "      <td>0</td>\n",
       "      <td>0.524</td>\n",
       "      <td>5.631</td>\n",
       "      <td>100.0</td>\n",
       "      <td>6.0821</td>\n",
       "      <td>5</td>\n",
       "      <td>311.0</td>\n",
       "      <td>15.2</td>\n",
       "      <td>386.63</td>\n",
       "      <td>29.93</td>\n",
       "    </tr>\n",
       "    <tr>\n",
       "      <th>277</th>\n",
       "      <td>0.06127</td>\n",
       "      <td>40.0</td>\n",
       "      <td>6.41</td>\n",
       "      <td>1</td>\n",
       "      <td>0.447</td>\n",
       "      <td>6.826</td>\n",
       "      <td>27.6</td>\n",
       "      <td>4.8628</td>\n",
       "      <td>4</td>\n",
       "      <td>254.0</td>\n",
       "      <td>17.6</td>\n",
       "      <td>393.45</td>\n",
       "      <td>4.16</td>\n",
       "    </tr>\n",
       "    <tr>\n",
       "      <th>90</th>\n",
       "      <td>0.04684</td>\n",
       "      <td>0.0</td>\n",
       "      <td>3.41</td>\n",
       "      <td>0</td>\n",
       "      <td>0.489</td>\n",
       "      <td>6.417</td>\n",
       "      <td>66.1</td>\n",
       "      <td>3.0923</td>\n",
       "      <td>2</td>\n",
       "      <td>270.0</td>\n",
       "      <td>17.8</td>\n",
       "      <td>392.18</td>\n",
       "      <td>8.81</td>\n",
       "    </tr>\n",
       "  </tbody>\n",
       "</table>\n",
       "</div>"
      ],
      "text/plain": [
       "        CRIM    ZN  INDUS  CHAS    NOX     RM    AGE     DIS  RAD    TAX  \\\n",
       "32   1.38799   0.0   8.14     0  0.538  5.950   82.0  3.9900    4  307.0   \n",
       "430  8.49213   0.0  18.10     0  0.584  6.348   86.1  2.0527   24  666.0   \n",
       "8    0.21124  12.5   7.87     0  0.524  5.631  100.0  6.0821    5  311.0   \n",
       "277  0.06127  40.0   6.41     1  0.447  6.826   27.6  4.8628    4  254.0   \n",
       "90   0.04684   0.0   3.41     0  0.489  6.417   66.1  3.0923    2  270.0   \n",
       "\n",
       "     PTRATIO       B  LSTAT  \n",
       "32      21.0  232.60  27.71  \n",
       "430     20.2   83.45  17.64  \n",
       "8       15.2  386.63  29.93  \n",
       "277     17.6  393.45   4.16  \n",
       "90      17.8  392.18   8.81  "
      ]
     },
     "execution_count": 11,
     "metadata": {},
     "output_type": "execute_result"
    }
   ],
   "source": [
    "X_test.head()"
   ]
  },
  {
   "cell_type": "code",
   "execution_count": 12,
   "id": "5621a65e-07d7-4e1a-a491-f9ac0345b16f",
   "metadata": {},
   "outputs": [
    {
     "data": {
      "text/plain": [
       "227    1\n",
       "256    1\n",
       "16     1\n",
       "156    0\n",
       "484    0\n",
       "Name: CAT.MEDV, dtype: int32"
      ]
     },
     "execution_count": 12,
     "metadata": {},
     "output_type": "execute_result"
    }
   ],
   "source": [
    "y_train.head()"
   ]
  },
  {
   "cell_type": "code",
   "execution_count": 13,
   "id": "dd3ae5d0-8970-42cb-a18a-d6b584895800",
   "metadata": {},
   "outputs": [
    {
     "data": {
      "text/plain": [
       "32     0\n",
       "430    0\n",
       "8      0\n",
       "277    1\n",
       "90     1\n",
       "Name: CAT.MEDV, dtype: int32"
      ]
     },
     "execution_count": 13,
     "metadata": {},
     "output_type": "execute_result"
    }
   ],
   "source": [
    "y_test.head()"
   ]
  },
  {
   "cell_type": "markdown",
   "id": "1963a7e5-e215-4b1d-8f2d-86b808377d46",
   "metadata": {},
   "source": [
    "#"
   ]
  },
  {
   "cell_type": "markdown",
   "id": "d4def52c-9959-462d-8186-94b39c7a7ee0",
   "metadata": {},
   "source": [
    "## Model Oluşturma :"
   ]
  },
  {
   "cell_type": "markdown",
   "id": "51974067-68fe-4cf3-9ff2-4aeb37863c23",
   "metadata": {},
   "source": [
    "### Logistic Regression"
   ]
  },
  {
   "cell_type": "code",
   "execution_count": 14,
   "id": "4f156d67-03bd-48d8-97cb-f6c56d68bdd7",
   "metadata": {},
   "outputs": [],
   "source": [
    "# Gerekli kütüphane\n",
    "from sklearn.linear_model import LogisticRegression\n",
    "\n",
    "# model oluşturma\n",
    "model_LR = LogisticRegression().fit(X_train, y_train)"
   ]
  },
  {
   "cell_type": "code",
   "execution_count": 15,
   "id": "251b961c-87f8-4b25-894a-4d6a5c1fcf49",
   "metadata": {},
   "outputs": [
    {
     "data": {
      "text/plain": [
       "array([0.04864371])"
      ]
     },
     "execution_count": 15,
     "metadata": {},
     "output_type": "execute_result"
    }
   ],
   "source": [
    "model_LR.intercept_"
   ]
  },
  {
   "cell_type": "code",
   "execution_count": 16,
   "id": "e1acc816-b04e-48b5-a7e1-d8f959e39956",
   "metadata": {},
   "outputs": [
    {
     "data": {
      "text/plain": [
       "array([[-0.02146179,  0.00424924,  0.02972761,  0.10736702,  0.00740184,\n",
       "         0.51942694, -0.00136645, -0.21579398,  0.09184397, -0.00258744,\n",
       "        -0.49736965,  0.0289278 , -0.3751752 ]])"
      ]
     },
     "execution_count": 16,
     "metadata": {},
     "output_type": "execute_result"
    }
   ],
   "source": [
    "model_LR.coef_"
   ]
  },
  {
   "cell_type": "markdown",
   "id": "0a31b4fc-488a-4316-bae4-71fff3617561",
   "metadata": {},
   "source": [
    "#### Tahmin ve Hata"
   ]
  },
  {
   "cell_type": "code",
   "execution_count": 17,
   "id": "4f2c7284-465f-46d9-8cca-059146926e47",
   "metadata": {},
   "outputs": [
    {
     "data": {
      "text/plain": [
       "array([1, 1, 1, 0, 0, 0, 0, 0, 1, 1])"
      ]
     },
     "execution_count": 17,
     "metadata": {},
     "output_type": "execute_result"
    }
   ],
   "source": [
    "# Eğitim Seti Tahmini\n",
    "y_pred_model_LR_train = model_LR.predict(X_train)\n",
    "y_pred_model_LR_train[0:10]"
   ]
  },
  {
   "cell_type": "code",
   "execution_count": 18,
   "id": "8ba698d2-1e8b-41f3-a898-f8dac5e353c4",
   "metadata": {},
   "outputs": [
    {
     "data": {
      "text/plain": [
       "array([[5.68452527e-02, 9.43154747e-01],\n",
       "       [8.59354964e-03, 9.91406450e-01],\n",
       "       [4.51573650e-01, 5.48426350e-01],\n",
       "       [9.99809638e-01, 1.90361585e-04],\n",
       "       [7.53546555e-01, 2.46453445e-01],\n",
       "       [9.88838046e-01, 1.11619538e-02],\n",
       "       [9.99999942e-01, 5.79687157e-08],\n",
       "       [9.98724172e-01, 1.27582788e-03],\n",
       "       [4.15039607e-01, 5.84960393e-01],\n",
       "       [1.25467207e-02, 9.87453279e-01]])"
      ]
     },
     "execution_count": 18,
     "metadata": {},
     "output_type": "execute_result"
    }
   ],
   "source": [
    "# Eğitim Seti Tahmini ---Olasılıkları---\n",
    "y_prob_model_LR_train = model_LR.predict_proba(X_train)\n",
    "y_prob_model_LR_train[0:10]"
   ]
  },
  {
   "cell_type": "code",
   "execution_count": 19,
   "id": "a47e76ab-aebf-4830-82a5-4dc18e7f0031",
   "metadata": {},
   "outputs": [
    {
     "data": {
      "text/plain": [
       "array([0, 0, 0, 1, 1, 0, 1, 0, 0, 0])"
      ]
     },
     "execution_count": 19,
     "metadata": {},
     "output_type": "execute_result"
    }
   ],
   "source": [
    "# Test Seti Tahmini\n",
    "y_pred_model_LR_test = model_LR.predict(X_test)\n",
    "y_pred_model_LR_test[0:10]"
   ]
  },
  {
   "cell_type": "code",
   "execution_count": 20,
   "id": "92fcd05c-09c7-4b66-ac5c-a8a74465c358",
   "metadata": {},
   "outputs": [
    {
     "data": {
      "text/plain": [
       "array([[9.99994748e-01, 5.25204780e-06],\n",
       "       [9.99975686e-01, 2.43142687e-05],\n",
       "       [9.97848218e-01, 2.15178202e-03],\n",
       "       [2.28780844e-02, 9.77121916e-01],\n",
       "       [1.97867155e-01, 8.02132845e-01],\n",
       "       [8.00776178e-01, 1.99223822e-01],\n",
       "       [6.19388022e-02, 9.38061198e-01],\n",
       "       [9.99999743e-01, 2.57215669e-07],\n",
       "       [9.99993154e-01, 6.84600262e-06],\n",
       "       [9.99523508e-01, 4.76492250e-04]])"
      ]
     },
     "execution_count": 20,
     "metadata": {},
     "output_type": "execute_result"
    }
   ],
   "source": [
    "# Test Seti Tahmini ---Olasılıkları---\n",
    "y_prob_model_LR_test = model_LR.predict_proba(X_test)\n",
    "y_prob_model_LR_test[0:10]"
   ]
  },
  {
   "cell_type": "markdown",
   "id": "7c0a014c-8361-420e-8700-5c19fc65547a",
   "metadata": {},
   "source": [
    "#### Eğitim seti degerleri :"
   ]
  },
  {
   "cell_type": "code",
   "execution_count": 21,
   "id": "eb9e31dc-150a-420d-a440-8dc2440f9f7b",
   "metadata": {},
   "outputs": [
    {
     "data": {
      "text/plain": [
       "array([[177,  28],\n",
       "       [ 22, 177]], dtype=int64)"
      ]
     },
     "execution_count": 21,
     "metadata": {},
     "output_type": "execute_result"
    }
   ],
   "source": [
    "# Eğitim Seti Hatası ---Confusion Matrix---\n",
    "confusion_matrix(y_train, y_pred_model_LR_train)"
   ]
  },
  {
   "cell_type": "code",
   "execution_count": 22,
   "id": "032d6623-f7cc-4c27-819e-fec45319382a",
   "metadata": {},
   "outputs": [
    {
     "data": {
      "text/plain": [
       "0.8762376237623762"
      ]
     },
     "execution_count": 22,
     "metadata": {},
     "output_type": "execute_result"
    }
   ],
   "source": [
    "# Eğitim Seti Başarısı ---Accurcy Score---\n",
    "accuracy_score(y_train, y_pred_model_LR_train)"
   ]
  },
  {
   "cell_type": "code",
   "execution_count": 23,
   "id": "7291dc3f-4459-4bab-bd76-652649c7c4cf",
   "metadata": {},
   "outputs": [
    {
     "name": "stdout",
     "output_type": "stream",
     "text": [
      "              precision    recall  f1-score   support\n",
      "\n",
      "           0       0.89      0.86      0.88       205\n",
      "           1       0.86      0.89      0.88       199\n",
      "\n",
      "    accuracy                           0.88       404\n",
      "   macro avg       0.88      0.88      0.88       404\n",
      "weighted avg       0.88      0.88      0.88       404\n",
      "\n"
     ]
    }
   ],
   "source": [
    "# Eğitim Seti Hatası ---Classification Report---\n",
    "print(classification_report(y_train, y_pred_model_LR_train))"
   ]
  },
  {
   "cell_type": "markdown",
   "id": "61eb7691-f9e5-4511-a45f-e845a3f7b2dd",
   "metadata": {},
   "source": [
    "#### Test seti degerleri :"
   ]
  },
  {
   "cell_type": "code",
   "execution_count": 24,
   "id": "98c98027-0f21-4365-9402-f6d0ecad3a97",
   "metadata": {},
   "outputs": [
    {
     "data": {
      "text/plain": [
       "array([[42,  9],\n",
       "       [15, 36]], dtype=int64)"
      ]
     },
     "execution_count": 24,
     "metadata": {},
     "output_type": "execute_result"
    }
   ],
   "source": [
    "# Test Seti Hatası ---Confusion Matrix---\n",
    "\n",
    "confusion_matrix(y_test, y_pred_model_LR_test)"
   ]
  },
  {
   "cell_type": "code",
   "execution_count": 25,
   "id": "2a801aad-4941-4a72-b6df-5b765223e5e8",
   "metadata": {},
   "outputs": [
    {
     "data": {
      "text/plain": [
       "0.7647058823529411"
      ]
     },
     "execution_count": 113,
     "metadata": {},
     "output_type": "execute_result"
    }
   ],
   "source": [
    "# Test Seti Başarısı ---Accurcy Score---\n",
    "\n",
    "accuracy_score(y_test, y_pred_model_LR_test)"
   ]
  },
  {
   "cell_type": "code",
   "execution_count": 26,
   "id": "92e4060b-adc4-4941-9316-31b02cba9992",
   "metadata": {},
   "outputs": [
    {
     "name": "stdout",
     "output_type": "stream",
     "text": [
      "              precision    recall  f1-score   support\n",
      "\n",
      "           0       0.74      0.82      0.78        51\n",
      "           1       0.80      0.71      0.75        51\n",
      "\n",
      "    accuracy                           0.76       102\n",
      "   macro avg       0.77      0.76      0.76       102\n",
      "weighted avg       0.77      0.76      0.76       102\n",
      "\n"
     ]
    }
   ],
   "source": [
    "# Test Seti Hatası ---Classification Report---\n",
    "\n",
    "print(classification_report(y_test, y_pred_model_LR_test))"
   ]
  },
  {
   "cell_type": "markdown",
   "id": "628f9c79-4e38-412f-8655-28775ab4b2d1",
   "metadata": {},
   "source": [
    "#### Accuracy değeri 0.76, yani modelimiz test kümesindeki  gözlemleri yüksek oranda doğru tahmin etmiş. "
   ]
  },
  {
   "cell_type": "code",
   "execution_count": 27,
   "id": "277a4989-fea6-4f69-9d76-796f44c7ff22",
   "metadata": {},
   "outputs": [
    {
     "data": {
      "image/png": "[encoded data removed]",
      "text/plain": [
       "<Figure size 640x480 with 1 Axes>"
      ]
     },
     "metadata": {},
     "output_type": "display_data"
    }
   ],
   "source": [
    "logit_roc_auc = roc_auc_score(y_train, model_LR.predict(X_train))\n",
    "fpr, tpr, thresholds = roc_curve(y_train, model_LR.predict_proba(X_train)[:,1])\n",
    "plt.figure()\n",
    "plt.plot(fpr, tpr, label='AUC (area = %0.2f)' % logit_roc_auc)\n",
    "plt.plot([0, 1], [0, 1],'r--')\n",
    "plt.xlim([0.0, 1.0])\n",
    "plt.ylim([0.0, 1.05])\n",
    "plt.xlabel('False Positive Rate')\n",
    "plt.ylabel('True Positive Rate')\n",
    "plt.title('Receiver operating characteristic')\n",
    "plt.legend(loc=\"lower right\")\n",
    "plt.savefig('Log_ROC')\n",
    "plt.show()"
   ]
  },
  {
   "cell_type": "code",
   "execution_count": 28,
   "id": "844879f5-5ac3-43b7-9446-8d95beec7dce",
   "metadata": {},
   "outputs": [
    {
     "data": {
      "image/png": "[encoded data removed]",
      "text/plain": [
       "<Figure size 640x480 with 1 Axes>"
      ]
     },
     "metadata": {},
     "output_type": "display_data"
    }
   ],
   "source": [
    "logit_roc_auc = roc_auc_score(y_test, model_LR.predict(X_test))\n",
    "fpr, tpr, thresholds = roc_curve(y_test, model_LR.predict_proba(X_test)[:,1])\n",
    "plt.figure()\n",
    "plt.plot(fpr, tpr, label='AUC (area = %0.2f)' % logit_roc_auc)\n",
    "plt.plot([0, 1], [0, 1],'r--')\n",
    "plt.xlim([0.0, 1.0])\n",
    "plt.ylim([0.0, 1.05])\n",
    "plt.xlabel('False Positive Rate')\n",
    "plt.ylabel('True Positive Rate')\n",
    "plt.title('Receiver operating characteristic')\n",
    "plt.legend(loc=\"lower right\")\n",
    "plt.savefig('Log_ROC')\n",
    "plt.show()"
   ]
  },
  {
   "cell_type": "markdown",
   "id": "2f3f1fb7-6e87-43d3-99b8-4e730319d578",
   "metadata": {},
   "source": [
    "### Model Optimizasyonu —Grid Search Cross Validation—"
   ]
  },
  {
   "cell_type": "code",
   "execution_count": 29,
   "id": "ea434094-cbfc-4315-bd27-4e1ac0306d60",
   "metadata": {},
   "outputs": [],
   "source": [
    "model_LR_params = {\"solver\" : ['lbfgs', 'liblinear', 'newton-cg', 'newton-cholesky', 'sag', 'saga']}"
   ]
  },
  {
   "cell_type": "code",
   "execution_count": 30,
   "id": "e4dcfeba-e7c2-4dde-bc8f-7c02b9a6527a",
   "metadata": {
    "tags": []
   },
   "outputs": [],
   "source": [
    "# Model Tanımlama\n",
    "\n",
    "model_LR_CV = LogisticRegression(random_state = 1215)"
   ]
  },
  {
   "cell_type": "code",
   "execution_count": 31,
   "id": "df4e0f99-c0cc-476b-aa46-f9fec1df5ca8",
   "metadata": {},
   "outputs": [
    {
     "name": "stdout",
     "output_type": "stream",
     "text": [
      "Fitting 5 folds for each of 6 candidates, totalling 30 fits\n"
     ]
    }
   ],
   "source": [
    "model_LR_CVGS = GridSearchCV(model_LR_CV, \n",
    "                             model_LR_params,\n",
    "                             cv = 5,\n",
    "                             n_jobs = -1,\n",
    "                             verbose = 2).fit(X_train, y_train)\n"
   ]
  },
  {
   "cell_type": "code",
   "execution_count": 32,
   "id": "e13b29ab-7994-410c-831b-93bf74bd55ae",
   "metadata": {},
   "outputs": [
    {
     "data": {
      "text/plain": [
       "{'solver': 'liblinear'}"
      ]
     },
     "execution_count": 32,
     "metadata": {},
     "output_type": "execute_result"
    }
   ],
   "source": [
    "model_LR_CVGS.best_params_"
   ]
  },
  {
   "cell_type": "code",
   "execution_count": 33,
   "id": "9d10f720-1a78-46da-979e-830ce48a73aa",
   "metadata": {},
   "outputs": [],
   "source": [
    "# Bize verdigi en iyi parametre ile tekrar model olusturulur\n",
    "\n",
    "best_model_LR_CVGS = LogisticRegression(solver = \"liblinear\", random_state = 1215).fit(X_train, y_train)"
   ]
  },
  {
   "cell_type": "code",
   "execution_count": 34,
   "id": "9ad14d69-48af-4c19-a166-5fdd8d63261c",
   "metadata": {},
   "outputs": [],
   "source": [
    "# Eğitim Seti Tahminlerini Elde Etme\n",
    "\n",
    "best_model_LR_CVGS_pred_train = best_model_LR_CVGS.predict(X_train)"
   ]
  },
  {
   "cell_type": "code",
   "execution_count": 35,
   "id": "41cc3c13-f7e2-490c-a72f-2ba266444e3b",
   "metadata": {},
   "outputs": [],
   "source": [
    "# Test Seti Tahminleri Elde Etme\n",
    "\n",
    "best_model_LR_CVGS_pred_test = best_model_LR_CVGS.predict(X_test)"
   ]
  },
  {
   "cell_type": "code",
   "execution_count": 36,
   "id": "38fe8c22-8790-4f64-b7ec-f09ee7dc9226",
   "metadata": {},
   "outputs": [
    {
     "data": {
      "text/plain": [
       "0.900990099009901"
      ]
     },
     "execution_count": 36,
     "metadata": {},
     "output_type": "execute_result"
    }
   ],
   "source": [
    "# Eğitim Seti Basarisi : \n",
    "\n",
    "accuracy_score(y_train, best_model_LR_CVGS_pred_train)"
   ]
  },
  {
   "cell_type": "code",
   "execution_count": 37,
   "id": "d379e122-eac5-40b6-8fa6-0f33a25c39e8",
   "metadata": {},
   "outputs": [
    {
     "name": "stdout",
     "output_type": "stream",
     "text": [
      "              precision    recall  f1-score   support\n",
      "\n",
      "           0       0.90      0.90      0.90       205\n",
      "           1       0.90      0.90      0.90       199\n",
      "\n",
      "    accuracy                           0.90       404\n",
      "   macro avg       0.90      0.90      0.90       404\n",
      "weighted avg       0.90      0.90      0.90       404\n",
      "\n"
     ]
    }
   ],
   "source": [
    "# Eğitim Seti Basarisi Hesaplama :\n",
    "\n",
    "print(classification_report(y_train, best_model_LR_CVGS_pred_train))"
   ]
  },
  {
   "cell_type": "code",
   "execution_count": 38,
   "id": "4799cc00-0acd-4a34-a3bf-76af8ebda15b",
   "metadata": {},
   "outputs": [
    {
     "data": {
      "text/plain": [
       "0.8137254901960784"
      ]
     },
     "execution_count": 38,
     "metadata": {},
     "output_type": "execute_result"
    }
   ],
   "source": [
    "# Test Seti Basarisi :\n",
    "\n",
    "accuracy_score(y_test, best_model_LR_CVGS_pred_test)"
   ]
  },
  {
   "cell_type": "code",
   "execution_count": 39,
   "id": "b941f78f-4e21-491d-89f4-cfda200a1a97",
   "metadata": {},
   "outputs": [
    {
     "name": "stdout",
     "output_type": "stream",
     "text": [
      "              precision    recall  f1-score   support\n",
      "\n",
      "           0       0.76      0.92      0.83        51\n",
      "           1       0.90      0.71      0.79        51\n",
      "\n",
      "    accuracy                           0.81       102\n",
      "   macro avg       0.83      0.81      0.81       102\n",
      "weighted avg       0.83      0.81      0.81       102\n",
      "\n"
     ]
    }
   ],
   "source": [
    "# Test Seti Basarisi Hesaplama :\n",
    "print(classification_report(y_test, best_model_LR_CVGS_pred_test))\n"
   ]
  },
  {
   "cell_type": "markdown",
   "id": "7c63d6c3-84cc-4b2f-b947-4d707c9aeefe",
   "metadata": {},
   "source": [
    "##### Bu sonuçlar, gridsearch ile bulduğumuz parametrelerin, modelimizin performansının biraz daha arttigini gösteriyor. \n",
    "##### Ancak, başka parametreler veya başka modeller deneyerek daha iyi sonuçlar elde edebiliriz"
   ]
  },
  {
   "cell_type": "markdown",
   "id": "61b670ff-3833-4ad8-9083-7c4e1643e608",
   "metadata": {},
   "source": [
    "#"
   ]
  },
  {
   "cell_type": "markdown",
   "id": "bde6c537-2b40-4bf3-98d4-22d27757b6ac",
   "metadata": {},
   "source": [
    "### Random Forest"
   ]
  },
  {
   "cell_type": "code",
   "execution_count": 40,
   "id": "b2dfe498-da2c-481f-9246-6f46e6db3176",
   "metadata": {},
   "outputs": [],
   "source": [
    "# model olusturma\n",
    "from sklearn.ensemble import RandomForestClassifier\n",
    "\n",
    "model_RF = RandomForestClassifier(random_state=1215).fit(X_train, y_train)"
   ]
  },
  {
   "cell_type": "code",
   "execution_count": 41,
   "id": "e093c489-fea6-4546-8010-f05e652facc0",
   "metadata": {},
   "outputs": [
    {
     "data": {
      "image/png": "[encoded data removed]",
      "text/plain": [
       "<Figure size 640x480 with 1 Axes>"
      ]
     },
     "metadata": {},
     "output_type": "display_data"
    }
   ],
   "source": [
    "feature_imp= pd.Series(model_RF.feature_importances_,\n",
    "                       index=X_train.columns).sort_values(ascending=False)\n",
    "\n",
    "sns.barplot(x=feature_imp, y=feature_imp.index)\n",
    "plt.xlabel('degisken onem skorları')\n",
    "plt.ylabel('degiskenler')\n",
    "plt.title('degisken onem duzeyleri')\n",
    "plt.show()"
   ]
  },
  {
   "cell_type": "markdown",
   "id": "45c06e75-33db-4551-b2ad-95078ae64747",
   "metadata": {},
   "source": [
    "#### Tahmin ve Hata"
   ]
  },
  {
   "cell_type": "code",
   "execution_count": 42,
   "id": "07a438b4-39c9-4731-b011-7919c55c3430",
   "metadata": {},
   "outputs": [
    {
     "data": {
      "text/plain": [
       "array([1, 1, 1, 0, 0, 0, 0, 0, 1, 1])"
      ]
     },
     "execution_count": 42,
     "metadata": {},
     "output_type": "execute_result"
    }
   ],
   "source": [
    "# Eğitim Seti Tahmini\n",
    "y_pred_model_RF_train = model_RF.predict(X_train)\n",
    "y_pred_model_RF_train[0:10]"
   ]
  },
  {
   "cell_type": "code",
   "execution_count": 43,
   "id": "97dcdd0d-c294-4d44-b3d3-ff621b635c22",
   "metadata": {},
   "outputs": [
    {
     "data": {
      "text/plain": [
       "array([[0.  , 1.  ],\n",
       "       [0.  , 1.  ],\n",
       "       [0.18, 0.82],\n",
       "       [0.96, 0.04],\n",
       "       [0.91, 0.09],\n",
       "       [0.96, 0.04],\n",
       "       [1.  , 0.  ],\n",
       "       [1.  , 0.  ],\n",
       "       [0.06, 0.94],\n",
       "       [0.  , 1.  ]])"
      ]
     },
     "execution_count": 43,
     "metadata": {},
     "output_type": "execute_result"
    }
   ],
   "source": [
    "# Eğitim Seti Tahmini ---Olasılıkları---\n",
    "y_prob_model_RF_train = model_RF.predict_proba(X_train)\n",
    "y_prob_model_RF_train[0:10]"
   ]
  },
  {
   "cell_type": "code",
   "execution_count": 44,
   "id": "5d077178-1577-4a92-87c9-42bca0e1ba26",
   "metadata": {},
   "outputs": [
    {
     "data": {
      "text/plain": [
       "array([0, 0, 0, 1, 1, 0, 1, 0, 0, 0])"
      ]
     },
     "execution_count": 44,
     "metadata": {},
     "output_type": "execute_result"
    }
   ],
   "source": [
    "# Test Seti Tahmini\n",
    "y_pred_model_RF_test = model_RF.predict(X_test)\n",
    "y_pred_model_RF_test[0:10]"
   ]
  },
  {
   "cell_type": "code",
   "execution_count": 45,
   "id": "b21d9d24-65ac-48c3-b1fc-60eab58b8ff2",
   "metadata": {},
   "outputs": [
    {
     "data": {
      "text/plain": [
       "array([[0.99, 0.01],\n",
       "       [0.98, 0.02],\n",
       "       [0.72, 0.28],\n",
       "       [0.  , 1.  ],\n",
       "       [0.06, 0.94],\n",
       "       [1.  , 0.  ],\n",
       "       [0.18, 0.82],\n",
       "       [1.  , 0.  ],\n",
       "       [0.97, 0.03],\n",
       "       [0.92, 0.08]])"
      ]
     },
     "execution_count": 45,
     "metadata": {},
     "output_type": "execute_result"
    }
   ],
   "source": [
    "# Test Seti Tahmini ---Olasılıkları---\n",
    "y_prob_model_RF_test = model_RF.predict_proba(X_test)\n",
    "y_prob_model_RF_test[0:10]"
   ]
  },
  {
   "cell_type": "markdown",
   "id": "fa2d721a-11e4-4e01-a508-346141841fd9",
   "metadata": {},
   "source": [
    "#### Eğitim seti degerleri :"
   ]
  },
  {
   "cell_type": "code",
   "execution_count": 46,
   "id": "39ed0640-5740-4c29-9fd8-81867303edb8",
   "metadata": {},
   "outputs": [
    {
     "data": {
      "text/plain": [
       "array([[205,   0],\n",
       "       [  0, 199]], dtype=int64)"
      ]
     },
     "execution_count": 46,
     "metadata": {},
     "output_type": "execute_result"
    }
   ],
   "source": [
    "# Eğitim Seti Hatası ---Confusion Matrix---\n",
    "confusion_matrix(y_train, y_pred_model_RF_train)\n"
   ]
  },
  {
   "cell_type": "markdown",
   "id": "53a83080-3a25-4182-a468-a842e60343e6",
   "metadata": {},
   "source": [
    "0 ların tamamını 0, 1 lerin tamamını 1 olarak tahmin etti"
   ]
  },
  {
   "cell_type": "code",
   "execution_count": 47,
   "id": "b368fc95-827e-4961-8e8b-19f54a4eac1f",
   "metadata": {},
   "outputs": [
    {
     "data": {
      "text/plain": [
       "1.0"
      ]
     },
     "execution_count": 47,
     "metadata": {},
     "output_type": "execute_result"
    }
   ],
   "source": [
    "# Eğitim Seti Başarısı ---Accurcy Score---\n",
    "accuracy_score(y_train, y_pred_model_RF_train)\n"
   ]
  },
  {
   "cell_type": "markdown",
   "id": "c5376932-f9ae-4245-8ec2-16a3cf036728",
   "metadata": {},
   "source": [
    "egitim setinin accuracy scoreu hatasız tahmin ettigi icin 1 gelir"
   ]
  },
  {
   "cell_type": "code",
   "execution_count": 48,
   "id": "97d1d09f-99b4-44bd-a8c1-ebdf09650575",
   "metadata": {},
   "outputs": [
    {
     "name": "stdout",
     "output_type": "stream",
     "text": [
      "              precision    recall  f1-score   support\n",
      "\n",
      "           0       1.00      1.00      1.00       205\n",
      "           1       1.00      1.00      1.00       199\n",
      "\n",
      "    accuracy                           1.00       404\n",
      "   macro avg       1.00      1.00      1.00       404\n",
      "weighted avg       1.00      1.00      1.00       404\n",
      "\n"
     ]
    }
   ],
   "source": [
    "# Eğitim Seti Hatası ---Classification Report---\n",
    "print(classification_report(y_train, y_pred_model_RF_train))\n"
   ]
  },
  {
   "cell_type": "markdown",
   "id": "ce29cbed-3ea1-46b0-99c5-c5b346b4bb4a",
   "metadata": {},
   "source": [
    "#### Test seti degerleri :"
   ]
  },
  {
   "cell_type": "code",
   "execution_count": 49,
   "id": "f758090a-dd5c-4fd8-8fca-140831890e7a",
   "metadata": {},
   "outputs": [
    {
     "data": {
      "text/plain": [
       "array([[48,  3],\n",
       "       [13, 38]], dtype=int64)"
      ]
     },
     "execution_count": 49,
     "metadata": {},
     "output_type": "execute_result"
    }
   ],
   "source": [
    "# Test Seti Hatası ---Confusion Matrix---\n",
    "\n",
    "confusion_matrix(y_test, y_pred_model_RF_test)"
   ]
  },
  {
   "cell_type": "code",
   "execution_count": 50,
   "id": "3a617c68-7522-4bf7-8b01-57f5cb7ecc2c",
   "metadata": {},
   "outputs": [
    {
     "data": {
      "text/plain": [
       "0.8431372549019608"
      ]
     },
     "execution_count": 50,
     "metadata": {},
     "output_type": "execute_result"
    }
   ],
   "source": [
    "# Test Seti Başarısı ---Accurcy Score---\n",
    "\n",
    "accuracy_score(y_test, y_pred_model_RF_test)"
   ]
  },
  {
   "cell_type": "code",
   "execution_count": 136,
   "id": "5146eaeb-160f-4d0b-baa5-be526b8df6f6",
   "metadata": {},
   "outputs": [
    {
     "name": "stdout",
     "output_type": "stream",
     "text": [
      "              precision    recall  f1-score   support\n",
      "\n",
      "           0       0.79      0.94      0.86        51\n",
      "           1       0.93      0.75      0.83        51\n",
      "\n",
      "    accuracy                           0.84       102\n",
      "   macro avg       0.86      0.84      0.84       102\n",
      "weighted avg       0.86      0.84      0.84       102\n",
      "\n"
     ]
    }
   ],
   "source": [
    "# Test Seti Hatası ---Classification Report---\n",
    "\n",
    "print(classification_report(y_test, y_pred_model_RF_test))"
   ]
  },
  {
   "cell_type": "markdown",
   "id": "1b21518d-9f03-40e2-a06a-404b94b9409c",
   "metadata": {},
   "source": [
    "#### Accuracy değeri 0.84, yani modelimiz test kümesindeki  gözlemleri yüksek oranda doğru tahmin etmiş. "
   ]
  },
  {
   "cell_type": "markdown",
   "id": "e070c2fe-6c92-4dc0-b298-a40adf8d3be8",
   "metadata": {},
   "source": [
    "### Model Optimizasyonu —Grid Search Cross Validation—\n"
   ]
  },
  {
   "cell_type": "code",
   "execution_count": 52,
   "id": "69e6d4e3-4738-4ce8-ba22-7459c0879021",
   "metadata": {},
   "outputs": [],
   "source": [
    "model_RF_params = {\"n_estimators\" : [100, 200, 500, 1000],\n",
    "                    \"max_features\" : [3,5,7,8],\n",
    "                    \"min_samples_split\" : [2,5,10,20]}\n"
   ]
  },
  {
   "cell_type": "code",
   "execution_count": 53,
   "id": "777b9be2-a944-4895-a408-2a07942cf1dc",
   "metadata": {},
   "outputs": [
    {
     "name": "stdout",
     "output_type": "stream",
     "text": [
      "Fitting 10 folds for each of 64 candidates, totalling 640 fits\n"
     ]
    }
   ],
   "source": [
    "# Model Tanımlama\n",
    "\n",
    "model_RF_CV = RandomForestClassifier(random_state = 1215)\n",
    "\n",
    "model_RF_CVGS = GridSearchCV(model_RF_CV, \n",
    "                             model_RF_params,\n",
    "                             cv = 10,\n",
    "                             n_jobs = -1,\n",
    "                             verbose = 2).fit(X_train, y_train)"
   ]
  },
  {
   "cell_type": "code",
   "execution_count": 54,
   "id": "7da1b468-9440-4fb6-b3ae-32f34a16efde",
   "metadata": {},
   "outputs": [
    {
     "data": {
      "text/plain": [
       "{'max_features': 3, 'min_samples_split': 20, 'n_estimators': 100}"
      ]
     },
     "execution_count": 54,
     "metadata": {},
     "output_type": "execute_result"
    }
   ],
   "source": [
    "model_RF_CVGS.best_params_\n"
   ]
  },
  {
   "cell_type": "code",
   "execution_count": 55,
   "id": "71e0a99a-865f-43dc-808d-4b5a269ccf6c",
   "metadata": {},
   "outputs": [],
   "source": [
    "# Bize verdigi en iyi parametre ile tekrar model olusturulur\n",
    "\n",
    "best_model_RF_CVGS = RandomForestClassifier(max_features = 3,\n",
    "                                            min_samples_split = 20,\n",
    "                                            n_estimators = 100,\n",
    "                                            random_state = 1215).fit(X_train, y_train)"
   ]
  },
  {
   "cell_type": "code",
   "execution_count": 56,
   "id": "17e97367-04b9-40b4-b6ce-e597028774f9",
   "metadata": {},
   "outputs": [],
   "source": [
    "# Eğitim Seti Tahminlerini Elde Etme\n",
    "\n",
    "best_model_RF_CVGS_pred_train = best_model_RF_CVGS.predict(X_train)\n"
   ]
  },
  {
   "cell_type": "code",
   "execution_count": 57,
   "id": "f28131b8-1d43-4d4d-894f-6b82d203300a",
   "metadata": {},
   "outputs": [],
   "source": [
    "# Test Seti Tahminleri Elde Etme\n",
    "\n",
    "best_model_RF_CVGS_pred_test = best_model_RF_CVGS.predict(X_test)"
   ]
  },
  {
   "cell_type": "code",
   "execution_count": 58,
   "id": "a8a5a8bb-ac45-49d4-a21a-801bf74d34fe",
   "metadata": {},
   "outputs": [
    {
     "data": {
      "text/plain": [
       "0.948019801980198"
      ]
     },
     "execution_count": 58,
     "metadata": {},
     "output_type": "execute_result"
    }
   ],
   "source": [
    "# Eğitim Seti Basarisi : \n",
    "\n",
    "accuracy_score(y_train, best_model_RF_CVGS_pred_train)"
   ]
  },
  {
   "cell_type": "code",
   "execution_count": 59,
   "id": "2735ccd3-a997-417b-8380-c079bd5b26fc",
   "metadata": {},
   "outputs": [
    {
     "name": "stdout",
     "output_type": "stream",
     "text": [
      "              precision    recall  f1-score   support\n",
      "\n",
      "           0       0.93      0.98      0.95       205\n",
      "           1       0.97      0.92      0.95       199\n",
      "\n",
      "    accuracy                           0.95       404\n",
      "   macro avg       0.95      0.95      0.95       404\n",
      "weighted avg       0.95      0.95      0.95       404\n",
      "\n"
     ]
    }
   ],
   "source": [
    "# Eğitim Seti Basarisi Hesaplama :\n",
    "\n",
    "print(classification_report(y_train, best_model_RF_CVGS_pred_train))"
   ]
  },
  {
   "cell_type": "code",
   "execution_count": 60,
   "id": "0085394a-4de1-40f4-be11-5fc64bfbe6ef",
   "metadata": {},
   "outputs": [
    {
     "data": {
      "text/plain": [
       "0.803921568627451"
      ]
     },
     "execution_count": 60,
     "metadata": {},
     "output_type": "execute_result"
    }
   ],
   "source": [
    "# Test Seti Basarisi :\n",
    "\n",
    "accuracy_score(y_test, best_model_RF_CVGS_pred_test)"
   ]
  },
  {
   "cell_type": "code",
   "execution_count": 61,
   "id": "7fd1bf6d-2207-4a1f-8c0a-93897c80ae64",
   "metadata": {},
   "outputs": [
    {
     "name": "stdout",
     "output_type": "stream",
     "text": [
      "              precision    recall  f1-score   support\n",
      "\n",
      "           0       0.75      0.90      0.82        51\n",
      "           1       0.88      0.71      0.78        51\n",
      "\n",
      "    accuracy                           0.80       102\n",
      "   macro avg       0.82      0.80      0.80       102\n",
      "weighted avg       0.82      0.80      0.80       102\n",
      "\n"
     ]
    }
   ],
   "source": [
    "# Test Seti Basarisi Hesaplama :\n",
    "print(classification_report(y_test, best_model_RF_CVGS_pred_test))"
   ]
  },
  {
   "cell_type": "markdown",
   "id": "f5c79e61-9bbf-4df6-ab36-2e7ea124ce6e",
   "metadata": {},
   "source": [
    "##### Bu sonuçlar, gridsearch ile bulduğumuz parametrelerin, modelimizin performansını dusurdugunu gösteriyor.\n",
    "##### Bu, modelimizin zaten en iyi performansını gösterdiği anlamına gelebilir.\n",
    "##### Ancak, başka parametreler veya başka modeller deneyerek daha iyi sonuçlar elde edebiliriz"
   ]
  },
  {
   "cell_type": "markdown",
   "id": "4af50065-5b47-4b49-a33c-a10fc3617551",
   "metadata": {},
   "source": [
    "#"
   ]
  },
  {
   "cell_type": "markdown",
   "id": "0c48f096-e53a-4809-809e-77d5e7ec96ac",
   "metadata": {},
   "source": [
    "### Support Vector Machine"
   ]
  },
  {
   "cell_type": "code",
   "execution_count": 62,
   "id": "4a6d641d-6351-49a8-b171-c93611793550",
   "metadata": {},
   "outputs": [],
   "source": [
    "# model olusturma & model uydurma\n",
    "\n",
    "from sklearn.svm import SVC\n",
    "\n",
    "model_SVC = SVC(kernel=\"linear\",\n",
    "                probability=True,\n",
    "                random_state=1215).fit(X_train, y_train)"
   ]
  },
  {
   "cell_type": "markdown",
   "id": "06be31fa-901b-4a59-a086-147725cc0f48",
   "metadata": {},
   "source": [
    "#### Tahmin ve Hata"
   ]
  },
  {
   "cell_type": "code",
   "execution_count": 63,
   "id": "3b130b68-3806-4f11-9aa2-d50fee9b23cc",
   "metadata": {},
   "outputs": [
    {
     "data": {
      "text/plain": [
       "array([1, 1, 0, 0, 0, 0, 0, 0, 1, 1])"
      ]
     },
     "execution_count": 63,
     "metadata": {},
     "output_type": "execute_result"
    }
   ],
   "source": [
    "# Eğitim Seti Tahmini\n",
    "y_pred_model_SVC_train = model_SVC.predict(X_train)\n",
    "y_pred_model_SVC_train[0:10]"
   ]
  },
  {
   "cell_type": "code",
   "execution_count": 64,
   "id": "7b0da643-292f-48dc-acde-55566aff697b",
   "metadata": {},
   "outputs": [
    {
     "data": {
      "text/plain": [
       "array([[0.03165997, 0.96834003],\n",
       "       [0.00840215, 0.99159785],\n",
       "       [0.51607013, 0.48392987],\n",
       "       [0.88139304, 0.11860696],\n",
       "       [0.75612104, 0.24387896],\n",
       "       [0.91018661, 0.08981339],\n",
       "       [0.99100867, 0.00899133],\n",
       "       [0.99788879, 0.00211121],\n",
       "       [0.42930613, 0.57069387],\n",
       "       [0.02022951, 0.97977049]])"
      ]
     },
     "execution_count": 64,
     "metadata": {},
     "output_type": "execute_result"
    }
   ],
   "source": [
    "# Eğitim Seti Tahmini ---Olasılıkları---\n",
    "y_prob_model_SVC_train = model_SVC.predict_proba(X_train)\n",
    "y_prob_model_SVC_train[0:10]"
   ]
  },
  {
   "cell_type": "code",
   "execution_count": 65,
   "id": "82478dc1-a7a3-4d27-a368-a4469138b98a",
   "metadata": {},
   "outputs": [
    {
     "data": {
      "text/plain": [
       "array([0, 0, 0, 1, 1, 0, 1, 0, 0, 0])"
      ]
     },
     "execution_count": 65,
     "metadata": {},
     "output_type": "execute_result"
    }
   ],
   "source": [
    "# Test Seti Tahmini\n",
    "y_pred_model_SVC_test = model_SVC.predict(X_test)\n",
    "y_pred_model_SVC_test[0:10]"
   ]
  },
  {
   "cell_type": "code",
   "execution_count": 66,
   "id": "00ac1777-d59f-4c32-8869-2545513a17c1",
   "metadata": {},
   "outputs": [
    {
     "data": {
      "text/plain": [
       "array([[0.99622893, 0.00377107],\n",
       "       [0.8599923 , 0.1400077 ],\n",
       "       [0.99155279, 0.00844721],\n",
       "       [0.01377572, 0.98622428],\n",
       "       [0.18804017, 0.81195983],\n",
       "       [0.76234746, 0.23765254],\n",
       "       [0.38929576, 0.61070424],\n",
       "       [0.97348809, 0.02651191],\n",
       "       [0.87086179, 0.12913821],\n",
       "       [0.99733351, 0.00266649]])"
      ]
     },
     "execution_count": 66,
     "metadata": {},
     "output_type": "execute_result"
    }
   ],
   "source": [
    "# Test Seti Tahmini ---Olasılıkları---\n",
    "y_prob_model_SVC_test = model_SVC.predict_proba(X_test)\n",
    "y_prob_model_SVC_test[0:10]"
   ]
  },
  {
   "cell_type": "markdown",
   "id": "d7047ecf-78b9-481f-8339-205748df5e2d",
   "metadata": {},
   "source": [
    "#### Eğitim seti degerleri :"
   ]
  },
  {
   "cell_type": "code",
   "execution_count": 67,
   "id": "e6196a0a-d078-47ce-8a74-3a4340cc3b7b",
   "metadata": {},
   "outputs": [
    {
     "data": {
      "text/plain": [
       "array([[186,  19],\n",
       "       [ 26, 173]], dtype=int64)"
      ]
     },
     "execution_count": 67,
     "metadata": {},
     "output_type": "execute_result"
    }
   ],
   "source": [
    "# Eğitim Seti Hatası ---Confusion Matrix---\n",
    "confusion_matrix(y_train, y_pred_model_SVC_train)"
   ]
  },
  {
   "cell_type": "code",
   "execution_count": 68,
   "id": "a4b84e5c-1c99-4f4c-8f0f-c89a2764dc39",
   "metadata": {},
   "outputs": [
    {
     "data": {
      "text/plain": [
       "0.8886138613861386"
      ]
     },
     "execution_count": 68,
     "metadata": {},
     "output_type": "execute_result"
    }
   ],
   "source": [
    "# Eğitim Seti Başarısı ---Accurcy Score---\n",
    "accuracy_score(y_train, y_pred_model_SVC_train)"
   ]
  },
  {
   "cell_type": "code",
   "execution_count": 69,
   "id": "c4a38354-1ba2-4d9a-a6c8-338ca1a8099c",
   "metadata": {},
   "outputs": [
    {
     "name": "stdout",
     "output_type": "stream",
     "text": [
      "              precision    recall  f1-score   support\n",
      "\n",
      "           0       0.88      0.91      0.89       205\n",
      "           1       0.90      0.87      0.88       199\n",
      "\n",
      "    accuracy                           0.89       404\n",
      "   macro avg       0.89      0.89      0.89       404\n",
      "weighted avg       0.89      0.89      0.89       404\n",
      "\n"
     ]
    }
   ],
   "source": [
    "# Eğitim Seti Hatası ---Classification Report---\n",
    "print(classification_report(y_train, y_pred_model_SVC_train))"
   ]
  },
  {
   "cell_type": "markdown",
   "id": "8a39ff18-7a55-4227-8e1f-d8f90388c8ff",
   "metadata": {},
   "source": [
    "#### Test seti degerleri :"
   ]
  },
  {
   "cell_type": "code",
   "execution_count": 70,
   "id": "339cdfd1-7ed7-4c1f-95c2-fa63a7051803",
   "metadata": {},
   "outputs": [
    {
     "data": {
      "text/plain": [
       "array([[45,  6],\n",
       "       [13, 38]], dtype=int64)"
      ]
     },
     "execution_count": 70,
     "metadata": {},
     "output_type": "execute_result"
    }
   ],
   "source": [
    "# Test Seti Hatası ---Confusion Matrix---\n",
    "\n",
    "confusion_matrix(y_test, y_pred_model_SVC_test)"
   ]
  },
  {
   "cell_type": "code",
   "execution_count": 71,
   "id": "62a6fb92-0d42-4f79-b7ea-91deb9946e98",
   "metadata": {},
   "outputs": [
    {
     "data": {
      "text/plain": [
       "0.8137254901960784"
      ]
     },
     "execution_count": 71,
     "metadata": {},
     "output_type": "execute_result"
    }
   ],
   "source": [
    "# Test Seti Başarısı ---Accurcy Score---\n",
    "\n",
    "accuracy_score(y_test, y_pred_model_SVC_test)"
   ]
  },
  {
   "cell_type": "code",
   "execution_count": 72,
   "id": "1efc3774-1f74-48d2-a9a7-831022fbf0a9",
   "metadata": {},
   "outputs": [
    {
     "name": "stdout",
     "output_type": "stream",
     "text": [
      "              precision    recall  f1-score   support\n",
      "\n",
      "           0       0.78      0.88      0.83        51\n",
      "           1       0.86      0.75      0.80        51\n",
      "\n",
      "    accuracy                           0.81       102\n",
      "   macro avg       0.82      0.81      0.81       102\n",
      "weighted avg       0.82      0.81      0.81       102\n",
      "\n"
     ]
    }
   ],
   "source": [
    "# Test Seti Hatası ---Classification Report---\n",
    "\n",
    "print(classification_report(y_test, y_pred_model_SVC_test))"
   ]
  },
  {
   "cell_type": "markdown",
   "id": "70848204-9770-45bf-9a49-f93aef8d1768",
   "metadata": {},
   "source": [
    "#### Accuracy değeri 0.81, modelimiz test kümesindeki  gözlemleri yüksek oranda doğru tahmin etmiş. "
   ]
  },
  {
   "cell_type": "markdown",
   "id": "a08cbeb2-4622-4b4a-b7b1-516e472327d5",
   "metadata": {},
   "source": [
    "### Model Optimizasyonu —Grid Search Cross Validation—\n"
   ]
  },
  {
   "cell_type": "code",
   "execution_count": 73,
   "id": "60e58c4c-89a6-4830-a3e6-bfd454b4c5c0",
   "metadata": {},
   "outputs": [],
   "source": [
    "model_SVC_params = {\"C\":np.arange(1,10),\n",
    "                    \"kernel\":[\"linear\", \"rbf\"]}"
   ]
  },
  {
   "cell_type": "code",
   "execution_count": 74,
   "id": "ff5c2164-8049-415c-b8ed-66ac8b4755ab",
   "metadata": {},
   "outputs": [],
   "source": [
    "# Model Tanımlama\n",
    "\n",
    "model_SVC_CV = SVC(probability=True, random_state = 1215)"
   ]
  },
  {
   "cell_type": "code",
   "execution_count": 75,
   "id": "8184b916-ba46-4cdb-b105-68fab60bd295",
   "metadata": {},
   "outputs": [
    {
     "name": "stdout",
     "output_type": "stream",
     "text": [
      "Fitting 5 folds for each of 18 candidates, totalling 90 fits\n"
     ]
    }
   ],
   "source": [
    "model_SVC_CVGS = GridSearchCV(model_SVC_CV, \n",
    "                             model_SVC_params,\n",
    "                             cv = 5,\n",
    "                             n_jobs = -1,\n",
    "                             verbose = 2).fit(X_train, y_train)"
   ]
  },
  {
   "cell_type": "code",
   "execution_count": 76,
   "id": "03188881-5fa3-46f5-aaae-b8bf4a487db3",
   "metadata": {},
   "outputs": [
    {
     "data": {
      "text/plain": [
       "{'C': 2, 'kernel': 'linear'}"
      ]
     },
     "execution_count": 76,
     "metadata": {},
     "output_type": "execute_result"
    }
   ],
   "source": [
    "model_SVC_CVGS.best_params_"
   ]
  },
  {
   "cell_type": "code",
   "execution_count": 77,
   "id": "fe27f7db-bb6d-442d-b446-aaf781afdf65",
   "metadata": {},
   "outputs": [],
   "source": [
    "# Bize verdigi en iyi parametre ile tekrar model olusturulur\n",
    "\n",
    "best_model_SVC_CVGS = SVC(C = 2, kernel = \"linear\", random_state = 1215).fit(X_train, y_train)"
   ]
  },
  {
   "cell_type": "code",
   "execution_count": 78,
   "id": "1ed66497-f346-40eb-96d8-f0bc91f6ae74",
   "metadata": {},
   "outputs": [],
   "source": [
    "# Eğitim Seti Tahminlerini Elde Etme\n",
    "\n",
    "best_model_SVC_CVGS_pred_train = best_model_SVC_CVGS.predict(X_train)"
   ]
  },
  {
   "cell_type": "code",
   "execution_count": 79,
   "id": "5bf2949c-e70e-4e2c-b23c-2dd78fe9ebec",
   "metadata": {},
   "outputs": [],
   "source": [
    "# Test Seti Tahminleri Elde Etme\n",
    "\n",
    "best_model_SVC_CVGS_pred_test = best_model_SVC_CVGS.predict(X_test)"
   ]
  },
  {
   "cell_type": "code",
   "execution_count": 80,
   "id": "1770c4e7-28c9-4f2e-8f23-56ec5c3ba317",
   "metadata": {},
   "outputs": [
    {
     "data": {
      "text/plain": [
       "0.8935643564356436"
      ]
     },
     "execution_count": 80,
     "metadata": {},
     "output_type": "execute_result"
    }
   ],
   "source": [
    "# Eğitim Seti Basarisi : \n",
    "\n",
    "accuracy_score(y_train, best_model_SVC_CVGS_pred_train)"
   ]
  },
  {
   "cell_type": "code",
   "execution_count": 81,
   "id": "ca8a7d48-ebf5-4565-a34f-0da5d8864156",
   "metadata": {},
   "outputs": [
    {
     "name": "stdout",
     "output_type": "stream",
     "text": [
      "              precision    recall  f1-score   support\n",
      "\n",
      "           0       0.88      0.91      0.90       205\n",
      "           1       0.91      0.87      0.89       199\n",
      "\n",
      "    accuracy                           0.89       404\n",
      "   macro avg       0.89      0.89      0.89       404\n",
      "weighted avg       0.89      0.89      0.89       404\n",
      "\n"
     ]
    }
   ],
   "source": [
    "# Eğitim Seti Basarisi Hesaplama :\n",
    "\n",
    "print(classification_report(y_train, best_model_SVC_CVGS_pred_train))"
   ]
  },
  {
   "cell_type": "code",
   "execution_count": 82,
   "id": "3ec8d513-9abb-437a-b402-dfcb13beecd6",
   "metadata": {},
   "outputs": [
    {
     "data": {
      "text/plain": [
       "0.8137254901960784"
      ]
     },
     "execution_count": 82,
     "metadata": {},
     "output_type": "execute_result"
    }
   ],
   "source": [
    "# Test Seti Basarisi :\n",
    "\n",
    "accuracy_score(y_test, best_model_SVC_CVGS_pred_test)"
   ]
  },
  {
   "cell_type": "code",
   "execution_count": 83,
   "id": "41abaa6f-dd2b-4d63-bbf3-5f3b2e7b6693",
   "metadata": {},
   "outputs": [
    {
     "name": "stdout",
     "output_type": "stream",
     "text": [
      "              precision    recall  f1-score   support\n",
      "\n",
      "           0       0.78      0.88      0.83        51\n",
      "           1       0.86      0.75      0.80        51\n",
      "\n",
      "    accuracy                           0.81       102\n",
      "   macro avg       0.82      0.81      0.81       102\n",
      "weighted avg       0.82      0.81      0.81       102\n",
      "\n"
     ]
    }
   ],
   "source": [
    "# Test Seti Basarisi Hesaplama :\n",
    "print(classification_report(y_test, best_model_SVC_CVGS_pred_test))"
   ]
  },
  {
   "cell_type": "markdown",
   "id": "b9fcc778-6d0f-4f25-a15c-93688c2c0013",
   "metadata": {},
   "source": [
    "##### Bu sonuçlar, gridsearch ile bulduğumuz parametrelerin, modelimizin performansını degistirmedigini gösteriyor.\n",
    "##### Bu, modelimizin zaten en iyi performansını gösterdiği anlamına gelebilir.\n",
    "##### Ancak, başka parametreler veya başka modeller deneyerek daha iyi sonuçlar elde edebiliriz"
   ]
  },
  {
   "cell_type": "markdown",
   "id": "b58ea22b-7507-4177-a3a1-3afcdd57ce41",
   "metadata": {},
   "source": [
    "#"
   ]
  },
  {
   "cell_type": "markdown",
   "id": "f1ab47f5-35d8-4b52-8986-f24629395d75",
   "metadata": {},
   "source": [
    "### Decision Tree"
   ]
  },
  {
   "cell_type": "code",
   "execution_count": 84,
   "id": "5020be32-baa2-44e6-98f6-e7e3cf026ecf",
   "metadata": {},
   "outputs": [],
   "source": [
    "from sklearn.tree import DecisionTreeClassifier\n",
    "\n",
    "model_DT = DecisionTreeClassifier(random_state=1215).fit(X_train, y_train)"
   ]
  },
  {
   "cell_type": "code",
   "execution_count": 85,
   "id": "e0f347d5-8b68-4d21-9bff-9c4f27fdaef2",
   "metadata": {},
   "outputs": [],
   "source": [
    "feature_imp = pd.Series(model_DT.feature_importances_,\n",
    "                        index= X_train.columns).sort_values(ascending=False)"
   ]
  },
  {
   "cell_type": "code",
   "execution_count": 86,
   "id": "f5ca5aea-87c6-484b-ad62-d5b5804497d9",
   "metadata": {},
   "outputs": [
    {
     "data": {
      "image/png": "[encoded data removed]",
      "text/plain": [
       "<Figure size 640x480 with 1 Axes>"
      ]
     },
     "metadata": {},
     "output_type": "display_data"
    }
   ],
   "source": [
    "sns.barplot(x = feature_imp, y=feature_imp.index)\n",
    "plt.xlabel(\"Değişken Önem Skorları\")\n",
    "plt.ylabel(\"Değişkenler\")\n",
    "plt.title(\"Model Değişken Önem Düzeyleri\")\n",
    "plt.show()"
   ]
  },
  {
   "cell_type": "markdown",
   "id": "cdf5eab9-cb36-4f21-b506-84f1ce93d9c3",
   "metadata": {},
   "source": [
    "#### Tahmin ve Hata"
   ]
  },
  {
   "cell_type": "code",
   "execution_count": 87,
   "id": "44d28e5f-6f27-43d9-9df3-ac5db12fd3cb",
   "metadata": {},
   "outputs": [
    {
     "data": {
      "text/plain": [
       "array([1, 1, 1, 0, 0, 0, 0, 0, 1, 1])"
      ]
     },
     "execution_count": 87,
     "metadata": {},
     "output_type": "execute_result"
    }
   ],
   "source": [
    "# Eğitim Seti Tahmini\n",
    "y_pred_model_DT_train = model_DT.predict(X_train)\n",
    "y_pred_model_DT_train[0:10]"
   ]
  },
  {
   "cell_type": "code",
   "execution_count": 88,
   "id": "7cce9106-0093-4eac-9287-643aa9f18156",
   "metadata": {},
   "outputs": [
    {
     "data": {
      "text/plain": [
       "array([[0., 1.],\n",
       "       [0., 1.],\n",
       "       [0., 1.],\n",
       "       [1., 0.],\n",
       "       [1., 0.],\n",
       "       [1., 0.],\n",
       "       [1., 0.],\n",
       "       [1., 0.],\n",
       "       [0., 1.],\n",
       "       [0., 1.]])"
      ]
     },
     "execution_count": 88,
     "metadata": {},
     "output_type": "execute_result"
    }
   ],
   "source": [
    "# Eğitim Seti Tahmini ---Olasılıkları---\n",
    "y_prob_model_DT_train = model_DT.predict_proba(X_train)\n",
    "y_prob_model_DT_train[0:10]"
   ]
  },
  {
   "cell_type": "code",
   "execution_count": 89,
   "id": "e425bef7-c421-488c-bd78-3780bf7c1e67",
   "metadata": {},
   "outputs": [
    {
     "data": {
      "text/plain": [
       "array([0, 0, 0, 1, 1, 0, 1, 0, 1, 0])"
      ]
     },
     "execution_count": 89,
     "metadata": {},
     "output_type": "execute_result"
    }
   ],
   "source": [
    "# Test Seti Tahmini\n",
    "y_pred_model_DT_test = model_DT.predict(X_test)\n",
    "y_pred_model_DT_test[0:10]"
   ]
  },
  {
   "cell_type": "code",
   "execution_count": 90,
   "id": "8d431139-f8c3-497b-816c-c5a03e1cdc18",
   "metadata": {},
   "outputs": [
    {
     "data": {
      "text/plain": [
       "array([[1., 0.],\n",
       "       [1., 0.],\n",
       "       [1., 0.],\n",
       "       [0., 1.],\n",
       "       [0., 1.],\n",
       "       [1., 0.],\n",
       "       [0., 1.],\n",
       "       [1., 0.],\n",
       "       [0., 1.],\n",
       "       [1., 0.]])"
      ]
     },
     "execution_count": 90,
     "metadata": {},
     "output_type": "execute_result"
    }
   ],
   "source": [
    "# Test Seti Tahmini ---Olasılıkları---\n",
    "y_prob_model_DT_test = model_DT.predict_proba(X_test)\n",
    "y_prob_model_DT_test[0:10]"
   ]
  },
  {
   "cell_type": "markdown",
   "id": "5cb12dc5-3f94-44fb-b518-b78c84ecadc1",
   "metadata": {},
   "source": [
    "#### Eğitim seti degerleri :"
   ]
  },
  {
   "cell_type": "code",
   "execution_count": 91,
   "id": "ba573a24-210a-487e-9a82-e335d1230b6e",
   "metadata": {},
   "outputs": [
    {
     "data": {
      "text/plain": [
       "array([[205,   0],\n",
       "       [  0, 199]], dtype=int64)"
      ]
     },
     "execution_count": 91,
     "metadata": {},
     "output_type": "execute_result"
    }
   ],
   "source": [
    "# Eğitim Seti Hatası ---Confusion Matrix---\n",
    "confusion_matrix(y_train, y_pred_model_DT_train)"
   ]
  },
  {
   "cell_type": "code",
   "execution_count": 92,
   "id": "a62af74a-4d83-450f-8369-896617c72edf",
   "metadata": {},
   "outputs": [
    {
     "data": {
      "text/plain": [
       "1.0"
      ]
     },
     "execution_count": 92,
     "metadata": {},
     "output_type": "execute_result"
    }
   ],
   "source": [
    "# Eğitim Seti Başarısı ---Accurcy Score---\n",
    "accuracy_score(y_train, y_pred_model_DT_train)"
   ]
  },
  {
   "cell_type": "code",
   "execution_count": 93,
   "id": "9981146d-78c2-4293-973b-8a639c16f913",
   "metadata": {},
   "outputs": [
    {
     "name": "stdout",
     "output_type": "stream",
     "text": [
      "              precision    recall  f1-score   support\n",
      "\n",
      "           0       1.00      1.00      1.00       205\n",
      "           1       1.00      1.00      1.00       199\n",
      "\n",
      "    accuracy                           1.00       404\n",
      "   macro avg       1.00      1.00      1.00       404\n",
      "weighted avg       1.00      1.00      1.00       404\n",
      "\n"
     ]
    }
   ],
   "source": [
    "# Eğitim Seti Hatası ---Classification Report---\n",
    "print(classification_report(y_train, y_pred_model_DT_train))"
   ]
  },
  {
   "cell_type": "markdown",
   "id": "7faa2572-bd55-47c7-88da-9abf21d3a657",
   "metadata": {},
   "source": [
    "#### Test seti degerleri :"
   ]
  },
  {
   "cell_type": "code",
   "execution_count": 94,
   "id": "65a473e4-19c5-430b-b64b-435e6144bdbf",
   "metadata": {},
   "outputs": [
    {
     "data": {
      "text/plain": [
       "array([[42,  9],\n",
       "       [10, 41]], dtype=int64)"
      ]
     },
     "execution_count": 94,
     "metadata": {},
     "output_type": "execute_result"
    }
   ],
   "source": [
    "# Test Seti Hatası ---Confusion Matrix---\n",
    "\n",
    "confusion_matrix(y_test, y_pred_model_DT_test)"
   ]
  },
  {
   "cell_type": "code",
   "execution_count": 95,
   "id": "04da0b0b-98b4-4b07-933c-74a61d303d54",
   "metadata": {},
   "outputs": [
    {
     "data": {
      "text/plain": [
       "0.8137254901960784"
      ]
     },
     "execution_count": 95,
     "metadata": {},
     "output_type": "execute_result"
    }
   ],
   "source": [
    "# Test Seti Başarısı ---Accurcy Score---\n",
    "\n",
    "accuracy_score(y_test, y_pred_model_DT_test)"
   ]
  },
  {
   "cell_type": "code",
   "execution_count": 96,
   "id": "a2aa2e6c-c938-4c75-8f1a-316bc43a7c23",
   "metadata": {},
   "outputs": [
    {
     "name": "stdout",
     "output_type": "stream",
     "text": [
      "              precision    recall  f1-score   support\n",
      "\n",
      "           0       0.81      0.82      0.82        51\n",
      "           1       0.82      0.80      0.81        51\n",
      "\n",
      "    accuracy                           0.81       102\n",
      "   macro avg       0.81      0.81      0.81       102\n",
      "weighted avg       0.81      0.81      0.81       102\n",
      "\n"
     ]
    }
   ],
   "source": [
    "# Test Seti Hatası ---Classification Report---\n",
    "\n",
    "print(classification_report(y_test, y_pred_model_DT_test))"
   ]
  },
  {
   "cell_type": "markdown",
   "id": "67add7f6-03fe-470e-a92a-e40dc25910a3",
   "metadata": {},
   "source": [
    "#### Accuracy değeri 0.81, yani modelimiz test kümesindeki  gözlemleri yüksek oranda doğru tahmin etmiş. "
   ]
  },
  {
   "cell_type": "code",
   "execution_count": 130,
   "id": "3e42f2ef-d820-490f-a3e6-03ff40553be7",
   "metadata": {},
   "outputs": [
    {
     "data": {
      "image/png": "[encoded data removed]",
      "text/plain": [
       "<Figure size 640x480 with 1 Axes>"
      ]
     },
     "metadata": {},
     "output_type": "display_data"
    }
   ],
   "source": [
    "# roc egrisi\n",
    "logit_roc_auc= roc_auc_score(y_train, y_pred_model_DT_train)\n",
    "fpr, tpr, thresholds= roc_curve(y_train, model_DT.predict_proba(X_train)[:,1])\n",
    "plt.figure()\n",
    "plt.plot(fpr, tpr, label='AUC (area = %0.2f)' % logit_roc_auc)\n",
    "plt.plot([0,1], [0,1], 'r--')\n",
    "plt.xlim([-0.1, 1.0])\n",
    "plt.ylim([0.0, 1.05])\n",
    "plt.xlabel('False Positive Rate')\n",
    "plt.ylabel('True Positive Rate')\n",
    "plt.title('Receiver opeating characteristic')\n",
    "plt.legend(loc=\"lower right\")\n",
    "plt.savefig('log_ROC')\n",
    "plt.show()\n",
    "\n",
    "# altında kalan alan 1 e yakınlaştıkça dogru tahmin etme yüksekligimiz artar biz 1e yakın olmasını isteriz\n"
   ]
  },
  {
   "cell_type": "code",
   "execution_count": 131,
   "id": "d988fa7d-19ca-4754-8839-9a894055a18d",
   "metadata": {},
   "outputs": [
    {
     "data": {
      "image/png": "[encoded data removed]",
      "text/plain": [
       "<Figure size 640x480 with 1 Axes>"
      ]
     },
     "metadata": {},
     "output_type": "display_data"
    }
   ],
   "source": [
    "# roc egrisi\n",
    "logit_roc_auc= roc_auc_score(y_test, y_pred_model_DT_test)\n",
    "fpr, tpr, thresholds= roc_curve(y_test, model_DT.predict_proba(X_test)[:,1])\n",
    "plt.figure()\n",
    "plt.plot(fpr, tpr, label='AUC (area = %0.2f)' % logit_roc_auc)\n",
    "plt.plot([0,1], [0,1], 'r--')\n",
    "plt.xlim([-0.1, 1.0])\n",
    "plt.ylim([0.0, 1.05])\n",
    "plt.xlabel('False Positive Rate')\n",
    "plt.ylabel('True Positive Rate')\n",
    "plt.title('Receiver opeating characteristic')\n",
    "plt.legend(loc=\"lower right\")\n",
    "plt.savefig('log_ROC')\n",
    "plt.show()"
   ]
  },
  {
   "cell_type": "markdown",
   "id": "ce761861-d82a-43ff-8a6f-c787c1fb0bf1",
   "metadata": {},
   "source": [
    "### Model Optimizasyonu —Grid Search Cross Validation—\n"
   ]
  },
  {
   "cell_type": "code",
   "execution_count": 97,
   "id": "1ac1ccc2-e31c-4e5f-8666-582fc0bbf7db",
   "metadata": {},
   "outputs": [],
   "source": [
    "model_DT_params = {\"max_depth\" : [1,3,5,8,10],\n",
    "                   \"min_samples_split\" : [2,3,5,10,20,50]}"
   ]
  },
  {
   "cell_type": "code",
   "execution_count": 98,
   "id": "876f3dbc-42e2-499f-afce-9185e446f2e7",
   "metadata": {},
   "outputs": [
    {
     "name": "stdout",
     "output_type": "stream",
     "text": [
      "Fitting 5 folds for each of 30 candidates, totalling 150 fits\n"
     ]
    }
   ],
   "source": [
    "# Model Tanımlama\n",
    "\n",
    "model_DT_CV = DecisionTreeClassifier(random_state = 1215)\n",
    "\n",
    "model_DT_CVGS = GridSearchCV(model_DT_CV, \n",
    "                             model_DT_params,\n",
    "                             cv = 5,\n",
    "                             n_jobs = -1,\n",
    "                             verbose = 2).fit(X_train, y_train)"
   ]
  },
  {
   "cell_type": "code",
   "execution_count": 99,
   "id": "fe645ed5-2409-4b59-ba3f-57aeb9d9b934",
   "metadata": {},
   "outputs": [
    {
     "data": {
      "text/plain": [
       "{'max_depth': 3, 'min_samples_split': 50}"
      ]
     },
     "execution_count": 99,
     "metadata": {},
     "output_type": "execute_result"
    }
   ],
   "source": [
    "model_DT_CVGS.best_params_"
   ]
  },
  {
   "cell_type": "code",
   "execution_count": 100,
   "id": "044f77ab-f1df-411f-a7ef-cb0db72609bc",
   "metadata": {},
   "outputs": [],
   "source": [
    "# Bize verdigi en iyi parametre ile tekrar model olusturulur\n",
    "\n",
    "best_model_DT_CVGS = DecisionTreeClassifier(max_depth = 3,\n",
    "                                            min_samples_split = 50,\n",
    "                                            random_state = 1215).fit(X_train, y_train)"
   ]
  },
  {
   "cell_type": "code",
   "execution_count": 101,
   "id": "6c4d04df-cdbe-447d-8ed6-582a10f6fc33",
   "metadata": {},
   "outputs": [],
   "source": [
    "# Eğitim Seti Tahminlerini Elde Etme\n",
    "\n",
    "best_model_DT_CVGS_pred_train = best_model_DT_CVGS.predict(X_train)"
   ]
  },
  {
   "cell_type": "code",
   "execution_count": 102,
   "id": "d20332a2-ec71-4e1d-9bc0-01d9e4e8bd7c",
   "metadata": {},
   "outputs": [],
   "source": [
    "# Test Seti Tahminleri Elde Etme\n",
    "\n",
    "best_model_DT_CVGS_pred_test = best_model_DT_CVGS.predict(X_test)"
   ]
  },
  {
   "cell_type": "code",
   "execution_count": 103,
   "id": "d6028403-d445-4938-b1d4-a029264a42ef",
   "metadata": {},
   "outputs": [
    {
     "data": {
      "text/plain": [
       "0.8910891089108911"
      ]
     },
     "execution_count": 103,
     "metadata": {},
     "output_type": "execute_result"
    }
   ],
   "source": [
    "# Eğitim Seti Basarisi : \n",
    "\n",
    "accuracy_score(y_train, best_model_DT_CVGS_pred_train)"
   ]
  },
  {
   "cell_type": "code",
   "execution_count": 104,
   "id": "49850d6f-b3a3-4cbc-9bbd-bd23eb411036",
   "metadata": {},
   "outputs": [
    {
     "name": "stdout",
     "output_type": "stream",
     "text": [
      "              precision    recall  f1-score   support\n",
      "\n",
      "           0       0.84      0.97      0.90       205\n",
      "           1       0.96      0.81      0.88       199\n",
      "\n",
      "    accuracy                           0.89       404\n",
      "   macro avg       0.90      0.89      0.89       404\n",
      "weighted avg       0.90      0.89      0.89       404\n",
      "\n"
     ]
    }
   ],
   "source": [
    "# Eğitim Seti Basarisi Hesaplama :\n",
    "\n",
    "print(classification_report(y_train, best_model_DT_CVGS_pred_train))"
   ]
  },
  {
   "cell_type": "code",
   "execution_count": 105,
   "id": "b275d3ce-4168-4160-a794-52ae45d921a9",
   "metadata": {},
   "outputs": [
    {
     "data": {
      "text/plain": [
       "0.7745098039215687"
      ]
     },
     "execution_count": 105,
     "metadata": {},
     "output_type": "execute_result"
    }
   ],
   "source": [
    "# Test Seti Basarisi :\n",
    "\n",
    "accuracy_score(y_test, best_model_DT_CVGS_pred_test)"
   ]
  },
  {
   "cell_type": "code",
   "execution_count": 106,
   "id": "6b42b8d5-4ffe-4ac0-900a-e3e8f6faeb0a",
   "metadata": {},
   "outputs": [
    {
     "name": "stdout",
     "output_type": "stream",
     "text": [
      "              precision    recall  f1-score   support\n",
      "\n",
      "           0       0.71      0.94      0.81        51\n",
      "           1       0.91      0.61      0.73        51\n",
      "\n",
      "    accuracy                           0.77       102\n",
      "   macro avg       0.81      0.77      0.77       102\n",
      "weighted avg       0.81      0.77      0.77       102\n",
      "\n"
     ]
    }
   ],
   "source": [
    "# Test Seti Basarisi Hesaplama :\n",
    "print(classification_report(y_test, best_model_DT_CVGS_pred_test))"
   ]
  },
  {
   "cell_type": "markdown",
   "id": "b8e9e08f-01a2-4fdf-b856-c0ca2065e370",
   "metadata": {},
   "source": [
    "##### Bu sonuçlar, gridsearch ile bulduğumuz parametrelerin, modelimizin performansını dusurdugunu gösteriyor.\n",
    "##### Bu, modelimizin zaten en iyi performansını gösterdiği anlamına gelebilir.\n",
    "##### Ancak, başka parametreler veya başka modeller deneyerek daha iyi sonuçlar elde edebiliriz"
   ]
  },
  {
   "cell_type": "markdown",
   "id": "86138a2e-67d5-4e13-8da6-c8352120e405",
   "metadata": {},
   "source": [
    "#"
   ]
  },
  {
   "cell_type": "markdown",
   "id": "dff25918-0c29-45d6-8605-554a1caab3ce",
   "metadata": {},
   "source": [
    "### K Nearest Neighbor"
   ]
  },
  {
   "cell_type": "code",
   "execution_count": 139,
   "id": "4e4ac23e-6a19-40cb-b327-5b42e9127550",
   "metadata": {},
   "outputs": [
    {
     "data": {
      "text/plain": [
       "0.8137254901960784"
      ]
     },
     "execution_count": 139,
     "metadata": {},
     "output_type": "execute_result"
    }
   ],
   "source": [
    "from sklearn.neighbors import KNeighborsRegressor\n",
    "model_KNN = KNeighborsRegressor(n_neighbors=5).fit(X_train, y_train)\n",
    "y_pred_model_KNN = model_KNN.predict(X_test)\n",
    "accuracy_score(y_test, y_pred_model_KNN.round())"
   ]
  },
  {
   "cell_type": "markdown",
   "id": "109e4822-2909-4fa2-9d53-218bcd915cae",
   "metadata": {},
   "source": [
    "#### Accuracy değeri 0.81, modelimiz test kümesindeki  gözlemleri yüksek oranda doğru tahmin etmiş. "
   ]
  },
  {
   "cell_type": "code",
   "execution_count": 108,
   "id": "e453cec1-81f6-4f33-8fa5-ac50f0ab2774",
   "metadata": {},
   "outputs": [
    {
     "data": {
      "text/plain": [
       "{'metric': 'manhattan', 'n_neighbors': 7, 'weights': 'distance'}"
      ]
     },
     "execution_count": 108,
     "metadata": {},
     "output_type": "execute_result"
    }
   ],
   "source": [
    "## Grid Search kullanarak en iyi K degerini belirleyelim\n",
    "k_params = {\"n_neighbors\": [3, 5, 7, 9, 11, 13, 15, 17, 19, 21], \"metric\": [\"euclidean\", \"manhattan\", \"minkowski\"], \"weights\": [\"uniform\", \"distance\"]}\n",
    "KNN_arg = KNeighborsRegressor()\n",
    "model_KNN = GridSearchCV(KNN_arg, k_params, cv=5) \n",
    "model_KNN.fit(X_train, y_train)\n",
    "model_KNN.best_params_"
   ]
  },
  {
   "cell_type": "code",
   "execution_count": 124,
   "id": "584a0c9b-0197-4d1d-9fe7-cf527e24be3d",
   "metadata": {},
   "outputs": [
    {
     "data": {
      "text/plain": [
       "0.8333333333333334"
      ]
     },
     "execution_count": 124,
     "metadata": {},
     "output_type": "execute_result"
    }
   ],
   "source": [
    "# GridSearch ile bulduğumuz en iyi parametreler ile tekrar model oluşturuyoruz.\n",
    "best_model_KNN = KNeighborsRegressor(n_neighbors = 7 , metric = \"manhattan\", weights = \"distance\").fit(X_train, y_train)\n",
    "best_model_KNN_pred_test = best_model_KNN.predict(X_test)\n",
    "accuracy_score(y_test, best_model_KNN_pred_test.round())"
   ]
  },
  {
   "cell_type": "markdown",
   "id": "fb2309f4-71ef-46f2-8494-495d7924f9a0",
   "metadata": {},
   "source": [
    "##### Bu accuracy_score degeri, gridsearch ile bulduğumuz parametrelerin, modelimizin performansını artirdigini gösteriyor.\n",
    "##### Ancak, başka parametreler deneyerek daha iyi sonuçlar elde edebiliriz"
   ]
  },
  {
   "cell_type": "markdown",
   "id": "8a3e2f95-23f0-48ba-8b4e-4e4222d90ec7",
   "metadata": {},
   "source": [
    "#"
   ]
  }
 ],
 "metadata": {
  "kernelspec": {
   "display_name": "Python 3 (ipykernel)",
   "language": "python",
   "name": "python3"
  },
  "language_info": {
   "codemirror_mode": {
    "name": "ipython",
    "version": 3
   },
   "file_extension": ".py",
   "mimetype": "text/x-python",
   "name": "python",
   "nbconvert_exporter": "python",
   "pygments_lexer": "ipython3",
   "version": "3.9.12"
  }
 },
 "nbformat": 4,
 "nbformat_minor": 5
}
